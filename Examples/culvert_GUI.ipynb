{
 "cells": [
  {
   "cell_type": "markdown",
   "metadata": {},
   "source": [
    "<div style=\"text-align: right\"><img \n",
    "src=\"https://s3.eu-west-1.amazonaws.com/rhdhv.water-management-projecten/Algemeen/logo_WMlab.JPG\"  width=\"80\" align=\"right\" style=\"margin: 0px 0px 10px 10px;\">\n",
    "</div>\n",
    "<div style=\"text-align: right\"><img src=\"https://global.royalhaskoningdhv.com/-/media/project/rhdhv/shared/logos-and-brand-elements/logo-rhdhv-small.png\" align=\"right\" style=\"margin: 0px 0px 10px 10px;\"></div>\n"
   ]
  },
  {
   "cell_type": "markdown",
   "metadata": {},
   "source": [
    "___\n",
    "# Culvert calculation - Gelok method \n",
    "The notebook contains the Gelok method which is applicable for culverts, inlets and siphons. This method calculates the discharge through a structure given the gross head (or vice versa). <br>\n",
    "The formula's used in this calculation sheet are added as an appendix.\n",
    "___"
   ]
  },
  {
   "cell_type": "markdown",
   "metadata": {},
   "source": [
    "<div style=\"font-size: 9pt; text-align: right; font-style: italic\">Latest template update: 03-09-2021</div>"
   ]
  },
  {
   "cell_type": "markdown",
   "metadata": {},
   "source": [
    "<b>Run the cell below to load the interactive widget</b>"
   ]
  },
  {
   "cell_type": "code",
   "execution_count": 3,
   "metadata": {},
   "outputs": [
    {
     "data": {
      "application/vnd.jupyter.widget-view+json": {
       "model_id": "fc02258c018947d48e904d03d9d96b8d",
       "version_major": 2,
       "version_minor": 0
      },
      "text/plain": [
       "VBox(children=(HTML(value=\"<p style='font-family:verdana; font-size:24px; padding:20px'>Initial parameters</p>…"
      ]
     },
     "metadata": {},
     "output_type": "display_data"
    }
   ],
   "source": [
    "import os\n",
    "import sys\n",
    "\n",
    "sys.path.append(\"..\")\n",
    "from swat.culvert_layout import CulvertNotebookLayout\n",
    "nb = CulvertNotebookLayout()\n",
    "nb.run()"
   ]
  },
  {
   "cell_type": "markdown",
   "metadata": {},
   "source": [
    "___\n",
    "# Appendix - formula's used in this calculation sheet\n",
    "\n",
    "\n",
    "Gelok formula:\n",
    "\n",
    "$Q=\\mu \\cdot A \\sqrt{ 2 \\cdot g \\cdot z}$\n",
    "\n",
    "<i>where:</i>\n",
    "\n",
    "$Q \\ [m^3/s]$ = Discharge<br>\n",
    "$\\mu \\ [-]$ = Discharge coefficient<br> \n",
    "$A \\ [m^3/s]$ = Wet area culvert<br>\n",
    "$g \\ [m/s^2]$ = Gravitational acceleration<br>\n",
    "$z \\ [m]$ = Gross head (water level difference between head and tail of the culvert)<br><br>\n",
    "\n",
    "\n",
    "The discharge coefficient is calculated as follows:\n",
    "<br>\n",
    "$\\mu = \\dfrac{1}{\\sqrt{\\varepsilon_{in} + \\varepsilon_{friction} + \\varepsilon_{out} + \\varepsilon_{other} } } $ \n",
    "<br>\n",
    "\n",
    "<br><i>where:</i><br>\n",
    "$\\varepsilon_{in} \\ [-]$ = Inlet loss coefficient<br>\n",
    "$\\varepsilon_{friction} \\ [-]$ = Friction loss coefficient<br>\n",
    "$\\varepsilon_{out} \\ [-]$ = Outlet loss coefficient<br>\n",
    "$\\varepsilon_{other} \\ [-]$ = Other losses (e.g. bend losses)<br><br>\n",
    "\n",
    "The friction and outlet losses are calculated using the following formulae:<br>\n",
    "$ \\varepsilon_{friction} = \\dfrac{2 \\cdot g \\cdot L}{(k_M \\cdot R^{1/6})^2 \\cdot R} $\n",
    "<br>\n",
    "$ \\varepsilon_{out} = (1-\\alpha)^2 \\cdot k $\n",
    "<br>\n",
    "$\\alpha = \\dfrac{A}{A_{channel}} $\n",
    "<br>\n",
    "<br><br>\n",
    "<i>where:</i><br>\n",
    "$L \\ [m]$ = Length culvert <br>\n",
    "$k_M \\ [\\dfrac{m^{1/3}}{s}] $ = Manning roughness value<br>\n",
    "$R \\ [m] $ = Hydraulic perimeter culvert<br>\n",
    "$A_{channel} \\ [m^2]$ = Wet area downstream channel <br>\n",
    "$ k $ = shape dependent coefficient (1 = total loss of kinetic energy)\n",
    "<br><br>\n",
    "Source: Richtlijnen voor het berekenen van afwateringsstelsels in landelijke gebieden, Gelok, 1969 (https://edepot.wur.nl/188158)\n",
    "This method is described in 'Cultuur Technisch Vademecum 1988' (https://edepot.wur.nl/188194), page 803-812.\n"
   ]
  },
  {
   "cell_type": "code",
   "execution_count": null,
   "metadata": {},
   "outputs": [],
   "source": []
  }
 ],
 "metadata": {
  "kernelspec": {
   "display_name": "Python 3 (ipykernel)",
   "language": "python",
   "name": "python3"
  },
  "language_info": {
   "codemirror_mode": {
    "name": "ipython",
    "version": 3
   },
   "file_extension": ".py",
   "mimetype": "text/x-python",
   "name": "python",
   "nbconvert_exporter": "python",
   "pygments_lexer": "ipython3",
   "version": "3.9.12"
  },
  "widgets": {
   "application/vnd.jupyter.widget-state+json": {
    "state": {
     "03244ad49dd0448f95c2dbdaf8e5673e": {
      "model_module": "@jupyter-widgets/base",
      "model_module_version": "1.2.0",
      "model_name": "LayoutModel",
      "state": {}
     },
     "08d381858b7744f183dd79df6f3196bb": {
      "model_module": "@jupyter-widgets/base",
      "model_module_version": "1.2.0",
      "model_name": "LayoutModel",
      "state": {}
     },
     "0941198b2d5245d2a91396757681678e": {
      "model_module": "@jupyter-widgets/controls",
      "model_module_version": "1.5.0",
      "model_name": "DescriptionStyleModel",
      "state": {
       "description_width": ""
      }
     },
     "0a049fbd1fb74bcc86ac0da2e97a256a": {
      "model_module": "@jupyter-widgets/base",
      "model_module_version": "1.2.0",
      "model_name": "LayoutModel",
      "state": {}
     },
     "13b1757c92be4c49ad31ee03c8e6038f": {
      "model_module": "@jupyter-widgets/output",
      "model_module_version": "1.0.0",
      "model_name": "OutputModel",
      "state": {
       "layout": "IPY_MODEL_4db36b8636384758ba4498148cc5f34b"
      }
     },
     "1d150a2072a14253bcfd7ca773cd4a27": {
      "model_module": "@jupyter-widgets/controls",
      "model_module_version": "1.5.0",
      "model_name": "ToggleButtonsModel",
      "state": {
       "_options_labels": [
        "dz",
        "q"
       ],
       "button_style": "",
       "description": "Parameter to calculate:",
       "icons": [],
       "index": 0,
       "layout": "IPY_MODEL_49345f368596431da84771a4fbb43882",
       "style": "IPY_MODEL_42387d074a984151972a82b2f97a3bd6",
       "tooltips": [
        "Head loss",
        "Discharge"
       ]
      }
     },
     "1d17953d243d47d49f6282f14ceff480": {
      "model_module": "@jupyter-widgets/controls",
      "model_module_version": "1.5.0",
      "model_name": "ToggleButtonsStyleModel",
      "state": {
       "button_width": "",
       "description_width": "200px"
      }
     },
     "204b0127802b4820a0dd6d73ebed38b8": {
      "model_module": "@jupyter-widgets/base",
      "model_module_version": "1.2.0",
      "model_name": "LayoutModel",
      "state": {
       "margin": "20px",
       "width": "initial"
      }
     },
     "211f983648964f30919b2d0864e7df73": {
      "model_module": "@jupyter-widgets/controls",
      "model_module_version": "1.5.0",
      "model_name": "ButtonStyleModel",
      "state": {}
     },
     "235d9b924e574498aa747573001cf0e3": {
      "model_module": "@jupyter-widgets/controls",
      "model_module_version": "1.5.0",
      "model_name": "DescriptionStyleModel",
      "state": {
       "description_width": ""
      }
     },
     "277a636c105840f99e153fa67b588048": {
      "model_module": "@jupyter-widgets/base",
      "model_module_version": "1.2.0",
      "model_name": "LayoutModel",
      "state": {}
     },
     "2ec3ba854f15478499f4e3ece86d8b79": {
      "model_module": "@jupyter-widgets/output",
      "model_module_version": "1.0.0",
      "model_name": "OutputModel",
      "state": {
       "layout": "IPY_MODEL_c22c314a09b24f2dbcd9c10451a2e763"
      }
     },
     "30621b96e6dd4c15ab5242aea510be1f": {
      "model_module": "@jupyter-widgets/base",
      "model_module_version": "1.2.0",
      "model_name": "LayoutModel",
      "state": {}
     },
     "33e36ff4ae5c45beb85b3780b3a8988a": {
      "model_module": "@jupyter-widgets/base",
      "model_module_version": "1.2.0",
      "model_name": "LayoutModel",
      "state": {}
     },
     "347af42594174a22b1ceb564b822ee62": {
      "model_module": "@jupyter-widgets/controls",
      "model_module_version": "1.5.0",
      "model_name": "HBoxModel",
      "state": {
       "children": [
        "IPY_MODEL_13b1757c92be4c49ad31ee03c8e6038f",
        "IPY_MODEL_2ec3ba854f15478499f4e3ece86d8b79"
       ],
       "layout": "IPY_MODEL_dc72cb0ce7a44a9d9719dd7ef38ca81c"
      }
     },
     "355e27047e9c4cf8957d815f683afae5": {
      "model_module": "@jupyter-widgets/base",
      "model_module_version": "1.2.0",
      "model_name": "LayoutModel",
      "state": {}
     },
     "3e6ad382413c4743aff15eabd82d492a": {
      "model_module": "@jupyter-widgets/controls",
      "model_module_version": "1.5.0",
      "model_name": "HBoxModel",
      "state": {
       "children": [
        "IPY_MODEL_47b435652d954ccf9bd42d203064dd98",
        "IPY_MODEL_df5f78c429664a6e94b3f7e6a242a03e"
       ],
       "layout": "IPY_MODEL_4af0681430de4b00be7b2118afc6b6ae"
      }
     },
     "3fdd98fd1de643f3a11a4aa4783c5000": {
      "model_module": "@jupyter-widgets/base",
      "model_module_version": "1.2.0",
      "model_name": "LayoutModel",
      "state": {}
     },
     "4131c4a504a84a8fb9000ff2e898eb4b": {
      "model_module": "@jupyter-widgets/controls",
      "model_module_version": "1.5.0",
      "model_name": "VBoxModel",
      "state": {
       "children": [
        "IPY_MODEL_c65ae512f6a84e808dd58671a4a43e41",
        "IPY_MODEL_bd22805c87914520bf2bc7af23905d19",
        "IPY_MODEL_d0fc3f3dae744f3f99b140b7b9c909bf",
        "IPY_MODEL_5eb9899b219e45baabee4d84925e1372",
        "IPY_MODEL_570d156667354329bacd4354ab1a4bb3"
       ],
       "layout": "IPY_MODEL_08d381858b7744f183dd79df6f3196bb"
      }
     },
     "42387d074a984151972a82b2f97a3bd6": {
      "model_module": "@jupyter-widgets/controls",
      "model_module_version": "1.5.0",
      "model_name": "ToggleButtonsStyleModel",
      "state": {
       "button_width": "",
       "description_width": "200px"
      }
     },
     "446e5769bb1c4b8d9575bad7bededf52": {
      "model_module": "@jupyter-widgets/controls",
      "model_module_version": "1.5.0",
      "model_name": "ButtonStyleModel",
      "state": {}
     },
     "44ce0953c6d34d82bb6feaef91c0736d": {
      "model_module": "@jupyter-widgets/base",
      "model_module_version": "1.2.0",
      "model_name": "LayoutModel",
      "state": {}
     },
     "47b435652d954ccf9bd42d203064dd98": {
      "model_module": "@jupyter-widgets/controls",
      "model_module_version": "1.5.0",
      "model_name": "ToggleButtonsModel",
      "state": {
       "_options_labels": [
        "dz",
        "q"
       ],
       "button_style": "",
       "description": "Parameter to calculate:",
       "icons": [],
       "index": 0,
       "layout": "IPY_MODEL_8c4467298c904e39b153a9a2161ad1ad",
       "style": "IPY_MODEL_a77eda16a876405598960dfb7f8758c1",
       "tooltips": [
        "Head loss",
        "Discharge"
       ]
      }
     },
     "48c7f2b1a8684087b559aa7e5a744811": {
      "model_module": "@jupyter-widgets/controls",
      "model_module_version": "1.5.0",
      "model_name": "DescriptionStyleModel",
      "state": {
       "description_width": ""
      }
     },
     "49345f368596431da84771a4fbb43882": {
      "model_module": "@jupyter-widgets/base",
      "model_module_version": "1.2.0",
      "model_name": "LayoutModel",
      "state": {}
     },
     "4af0681430de4b00be7b2118afc6b6ae": {
      "model_module": "@jupyter-widgets/base",
      "model_module_version": "1.2.0",
      "model_name": "LayoutModel",
      "state": {}
     },
     "4db36b8636384758ba4498148cc5f34b": {
      "model_module": "@jupyter-widgets/base",
      "model_module_version": "1.2.0",
      "model_name": "LayoutModel",
      "state": {}
     },
     "4ffec0a5e04c4ff49496190bee25f853": {
      "model_module": "@jupyter-widgets/controls",
      "model_module_version": "1.5.0",
      "model_name": "DescriptionStyleModel",
      "state": {
       "description_width": ""
      }
     },
     "553f6b06eaba47438b5aac71062a5baa": {
      "model_module": "@jupyter-widgets/output",
      "model_module_version": "1.0.0",
      "model_name": "OutputModel",
      "state": {
       "layout": "IPY_MODEL_f32ae0325bb04a29bcedfcc89e5ec8a8"
      }
     },
     "570d156667354329bacd4354ab1a4bb3": {
      "model_module": "@jupyter-widgets/controls",
      "model_module_version": "1.5.0",
      "model_name": "HBoxModel",
      "state": {
       "children": [
        "IPY_MODEL_5f090b6af10c41128023e8c211ba0a71",
        "IPY_MODEL_75df92608ea04167ab7577e22f960860"
       ],
       "layout": "IPY_MODEL_33e36ff4ae5c45beb85b3780b3a8988a"
      }
     },
     "5817af26588d45a8b8b6f83cc69ac159": {
      "model_module": "@jupyter-widgets/base",
      "model_module_version": "1.2.0",
      "model_name": "LayoutModel",
      "state": {
       "margin": "20px",
       "width": "initial"
      }
     },
     "5859980ccc654b988a4f1a1c3bc96d52": {
      "model_module": "@jupyter-widgets/controls",
      "model_module_version": "1.5.0",
      "model_name": "HTMLModel",
      "state": {
       "layout": "IPY_MODEL_70870fc9a4ef4f80ba69cd4439b7ccbb",
       "style": "IPY_MODEL_48c7f2b1a8684087b559aa7e5a744811",
       "value": "<p style='font-family:verdana; font-size:24px; padding:20px'>Initial parameters</p>"
      }
     },
     "5881ac2d8b6b421ab406d995e04d25d7": {
      "model_module": "@jupyter-widgets/controls",
      "model_module_version": "1.5.0",
      "model_name": "ToggleButtonsModel",
      "state": {
       "_options_labels": [
        "dz",
        "q"
       ],
       "button_style": "",
       "description": "Parameter to calculate:",
       "icons": [],
       "index": 0,
       "layout": "IPY_MODEL_355e27047e9c4cf8957d815f683afae5",
       "style": "IPY_MODEL_7804d3cb3b45445e8a4854909e3c8bcb",
       "tooltips": [
        "Head loss",
        "Discharge"
       ]
      }
     },
     "5c7d0a753a2b41019d89e2ac40122e2b": {
      "model_module": "@jupyter-widgets/controls",
      "model_module_version": "1.5.0",
      "model_name": "VBoxModel",
      "state": {
       "children": [
        "IPY_MODEL_5859980ccc654b988a4f1a1c3bc96d52",
        "IPY_MODEL_3e6ad382413c4743aff15eabd82d492a",
        "IPY_MODEL_80aec3b7ded945a58689315545ee769a",
        "IPY_MODEL_61f3bc28a6f34a8aa3a0eb7659ef0a4c",
        "IPY_MODEL_b58383ace3c940cc88378f8b2277a7bc"
       ],
       "layout": "IPY_MODEL_bc49851146a64618be852934fc534437"
      }
     },
     "5eb9899b219e45baabee4d84925e1372": {
      "model_module": "@jupyter-widgets/controls",
      "model_module_version": "1.5.0",
      "model_name": "ButtonModel",
      "state": {
       "description": "Freeze initial parameters and start calculation",
       "layout": "IPY_MODEL_5817af26588d45a8b8b6f83cc69ac159",
       "style": "IPY_MODEL_446e5769bb1c4b8d9575bad7bededf52"
      }
     },
     "5f090b6af10c41128023e8c211ba0a71": {
      "model_module": "@jupyter-widgets/output",
      "model_module_version": "1.0.0",
      "model_name": "OutputModel",
      "state": {
       "layout": "IPY_MODEL_0a049fbd1fb74bcc86ac0da2e97a256a"
      }
     },
     "61f3bc28a6f34a8aa3a0eb7659ef0a4c": {
      "model_module": "@jupyter-widgets/controls",
      "model_module_version": "1.5.0",
      "model_name": "ButtonModel",
      "state": {
       "description": "Freeze initial parameters and start calculation",
       "layout": "IPY_MODEL_204b0127802b4820a0dd6d73ebed38b8",
       "style": "IPY_MODEL_8059eb90b205443cb6b1d17bd3dc2b34"
      }
     },
     "6248e0eacba74a2ba17f2d88de982011": {
      "model_module": "@jupyter-widgets/controls",
      "model_module_version": "1.5.0",
      "model_name": "DescriptionStyleModel",
      "state": {
       "description_width": ""
      }
     },
     "633732dbe5634093ba6ef22b9593ba9d": {
      "model_module": "@jupyter-widgets/controls",
      "model_module_version": "1.5.0",
      "model_name": "ToggleButtonsStyleModel",
      "state": {
       "button_width": "",
       "description_width": "200px"
      }
     },
     "70870fc9a4ef4f80ba69cd4439b7ccbb": {
      "model_module": "@jupyter-widgets/base",
      "model_module_version": "1.2.0",
      "model_name": "LayoutModel",
      "state": {}
     },
     "75df92608ea04167ab7577e22f960860": {
      "model_module": "@jupyter-widgets/output",
      "model_module_version": "1.0.0",
      "model_name": "OutputModel",
      "state": {
       "layout": "IPY_MODEL_d899a69e21c0481da53fafe6b9388e68"
      }
     },
     "7804d3cb3b45445e8a4854909e3c8bcb": {
      "model_module": "@jupyter-widgets/controls",
      "model_module_version": "1.5.0",
      "model_name": "ToggleButtonsStyleModel",
      "state": {
       "button_width": "",
       "description_width": "200px"
      }
     },
     "7885a1b5d97447db80ad153d4e3426be": {
      "model_module": "@jupyter-widgets/controls",
      "model_module_version": "1.5.0",
      "model_name": "ToggleButtonsModel",
      "state": {
       "_options_labels": [
        "round",
        "rectangle"
       ],
       "button_style": "",
       "description": "Choose culvert shape:",
       "icons": [],
       "index": 0,
       "layout": "IPY_MODEL_d48b28f219d14d33ad3983f35f274f91",
       "style": "IPY_MODEL_8437f878f25b48a1b5f15bb4ed2d9f2d",
       "tooltips": [
        ""
       ]
      }
     },
     "7d73e36fda214e259042d6f400636dd2": {
      "model_module": "@jupyter-widgets/base",
      "model_module_version": "1.2.0",
      "model_name": "LayoutModel",
      "state": {}
     },
     "8059eb90b205443cb6b1d17bd3dc2b34": {
      "model_module": "@jupyter-widgets/controls",
      "model_module_version": "1.5.0",
      "model_name": "ButtonStyleModel",
      "state": {}
     },
     "80aec3b7ded945a58689315545ee769a": {
      "model_module": "@jupyter-widgets/controls",
      "model_module_version": "1.5.0",
      "model_name": "ToggleButtonsModel",
      "state": {
       "_options_labels": [
        "round",
        "rectangle"
       ],
       "button_style": "",
       "description": "Choose culvert shape:",
       "icons": [],
       "index": 0,
       "layout": "IPY_MODEL_30621b96e6dd4c15ab5242aea510be1f",
       "style": "IPY_MODEL_633732dbe5634093ba6ef22b9593ba9d",
       "tooltips": [
        ""
       ]
      }
     },
     "81655b29290f4b58896c78f33bde7508": {
      "model_module": "@jupyter-widgets/base",
      "model_module_version": "1.2.0",
      "model_name": "LayoutModel",
      "state": {}
     },
     "8437f878f25b48a1b5f15bb4ed2d9f2d": {
      "model_module": "@jupyter-widgets/controls",
      "model_module_version": "1.5.0",
      "model_name": "ToggleButtonsStyleModel",
      "state": {
       "button_width": "",
       "description_width": "200px"
      }
     },
     "8c4467298c904e39b153a9a2161ad1ad": {
      "model_module": "@jupyter-widgets/base",
      "model_module_version": "1.2.0",
      "model_name": "LayoutModel",
      "state": {}
     },
     "9ebdd1174f5842e8b6dd17103da0e0cc": {
      "model_module": "@jupyter-widgets/controls",
      "model_module_version": "1.5.0",
      "model_name": "HTMLModel",
      "state": {
       "layout": "IPY_MODEL_44ce0953c6d34d82bb6feaef91c0736d",
       "style": "IPY_MODEL_9f1f1dce232e4724bf0c537bf155a51b",
       "value": "<p style='font-family:verdana; font-size:24px; padding:20px'>Initial parameters</p>"
      }
     },
     "9f1f1dce232e4724bf0c537bf155a51b": {
      "model_module": "@jupyter-widgets/controls",
      "model_module_version": "1.5.0",
      "model_name": "DescriptionStyleModel",
      "state": {
       "description_width": ""
      }
     },
     "a77eda16a876405598960dfb7f8758c1": {
      "model_module": "@jupyter-widgets/controls",
      "model_module_version": "1.5.0",
      "model_name": "ToggleButtonsStyleModel",
      "state": {
       "button_width": "",
       "description_width": "200px"
      }
     },
     "b58383ace3c940cc88378f8b2277a7bc": {
      "model_module": "@jupyter-widgets/controls",
      "model_module_version": "1.5.0",
      "model_name": "HBoxModel",
      "state": {
       "children": [
        "IPY_MODEL_553f6b06eaba47438b5aac71062a5baa",
        "IPY_MODEL_e76bf4f54f9b4d3fa504978c1c9a1c83"
       ],
       "layout": "IPY_MODEL_81655b29290f4b58896c78f33bde7508"
      }
     },
     "bc49851146a64618be852934fc534437": {
      "model_module": "@jupyter-widgets/base",
      "model_module_version": "1.2.0",
      "model_name": "LayoutModel",
      "state": {}
     },
     "bd22805c87914520bf2bc7af23905d19": {
      "model_module": "@jupyter-widgets/controls",
      "model_module_version": "1.5.0",
      "model_name": "HBoxModel",
      "state": {
       "children": [
        "IPY_MODEL_5881ac2d8b6b421ab406d995e04d25d7",
        "IPY_MODEL_c3acbec5024548f493fad9b36c363383"
       ],
       "layout": "IPY_MODEL_dc1e4d00a83d4d3691e099319459459d"
      }
     },
     "c051ed14f00f46eab692087b874597fb": {
      "model_module": "@jupyter-widgets/controls",
      "model_module_version": "1.5.0",
      "model_name": "ButtonModel",
      "state": {
       "description": "Freeze initial parameters and start calculation",
       "layout": "IPY_MODEL_db4f4e341bbc412db0a961d8b95ff816",
       "style": "IPY_MODEL_211f983648964f30919b2d0864e7df73"
      }
     },
     "c22c314a09b24f2dbcd9c10451a2e763": {
      "model_module": "@jupyter-widgets/base",
      "model_module_version": "1.2.0",
      "model_name": "LayoutModel",
      "state": {}
     },
     "c3acbec5024548f493fad9b36c363383": {
      "model_module": "@jupyter-widgets/controls",
      "model_module_version": "1.5.0",
      "model_name": "HTMLModel",
      "state": {
       "layout": "IPY_MODEL_277a636c105840f99e153fa67b588048",
       "style": "IPY_MODEL_0941198b2d5245d2a91396757681678e",
       "value": "<p style='font-family:verdana; font-size:12px;'>(dz = headloss; q = discharge)</p>"
      }
     },
     "c65ae512f6a84e808dd58671a4a43e41": {
      "model_module": "@jupyter-widgets/controls",
      "model_module_version": "1.5.0",
      "model_name": "HTMLModel",
      "state": {
       "layout": "IPY_MODEL_03244ad49dd0448f95c2dbdaf8e5673e",
       "style": "IPY_MODEL_235d9b924e574498aa747573001cf0e3",
       "value": "<p style='font-family:verdana; font-size:24px; padding:20px'>Initial parameters</p>"
      }
     },
     "c7b28b0f836948d0b500bf0c2ee87980": {
      "model_module": "@jupyter-widgets/base",
      "model_module_version": "1.2.0",
      "model_name": "LayoutModel",
      "state": {}
     },
     "cb62bf093bd94a94b7a5fdd43101611e": {
      "model_module": "@jupyter-widgets/base",
      "model_module_version": "1.2.0",
      "model_name": "LayoutModel",
      "state": {}
     },
     "d0fc3f3dae744f3f99b140b7b9c909bf": {
      "model_module": "@jupyter-widgets/controls",
      "model_module_version": "1.5.0",
      "model_name": "ToggleButtonsModel",
      "state": {
       "_options_labels": [
        "round",
        "rectangle"
       ],
       "button_style": "",
       "description": "Choose culvert shape:",
       "icons": [],
       "index": 0,
       "layout": "IPY_MODEL_efd0dd857f5b41d18c8cca04c7a6d818",
       "style": "IPY_MODEL_1d17953d243d47d49f6282f14ceff480",
       "tooltips": [
        ""
       ]
      }
     },
     "d48b28f219d14d33ad3983f35f274f91": {
      "model_module": "@jupyter-widgets/base",
      "model_module_version": "1.2.0",
      "model_name": "LayoutModel",
      "state": {}
     },
     "d899a69e21c0481da53fafe6b9388e68": {
      "model_module": "@jupyter-widgets/base",
      "model_module_version": "1.2.0",
      "model_name": "LayoutModel",
      "state": {}
     },
     "db4f4e341bbc412db0a961d8b95ff816": {
      "model_module": "@jupyter-widgets/base",
      "model_module_version": "1.2.0",
      "model_name": "LayoutModel",
      "state": {
       "margin": "20px",
       "width": "initial"
      }
     },
     "dc1e4d00a83d4d3691e099319459459d": {
      "model_module": "@jupyter-widgets/base",
      "model_module_version": "1.2.0",
      "model_name": "LayoutModel",
      "state": {}
     },
     "dc72cb0ce7a44a9d9719dd7ef38ca81c": {
      "model_module": "@jupyter-widgets/base",
      "model_module_version": "1.2.0",
      "model_name": "LayoutModel",
      "state": {}
     },
     "df5f78c429664a6e94b3f7e6a242a03e": {
      "model_module": "@jupyter-widgets/controls",
      "model_module_version": "1.5.0",
      "model_name": "HTMLModel",
      "state": {
       "layout": "IPY_MODEL_cb62bf093bd94a94b7a5fdd43101611e",
       "style": "IPY_MODEL_6248e0eacba74a2ba17f2d88de982011",
       "value": "<p style='font-family:verdana; font-size:12px;'>(dz = headloss; q = discharge)</p>"
      }
     },
     "e38b8c1d5d764dc7bb5e2d23f16ed8d9": {
      "model_module": "@jupyter-widgets/controls",
      "model_module_version": "1.5.0",
      "model_name": "HBoxModel",
      "state": {
       "children": [
        "IPY_MODEL_1d150a2072a14253bcfd7ca773cd4a27",
        "IPY_MODEL_e3d602014b70451486bbd4682eebf6b7"
       ],
       "layout": "IPY_MODEL_c7b28b0f836948d0b500bf0c2ee87980"
      }
     },
     "e3d602014b70451486bbd4682eebf6b7": {
      "model_module": "@jupyter-widgets/controls",
      "model_module_version": "1.5.0",
      "model_name": "HTMLModel",
      "state": {
       "layout": "IPY_MODEL_3fdd98fd1de643f3a11a4aa4783c5000",
       "style": "IPY_MODEL_4ffec0a5e04c4ff49496190bee25f853",
       "value": "<p style='font-family:verdana; font-size:12px;'>(dz = headloss; q = discharge)</p>"
      }
     },
     "e76bf4f54f9b4d3fa504978c1c9a1c83": {
      "model_module": "@jupyter-widgets/output",
      "model_module_version": "1.0.0",
      "model_name": "OutputModel",
      "state": {
       "layout": "IPY_MODEL_7d73e36fda214e259042d6f400636dd2"
      }
     },
     "efd0dd857f5b41d18c8cca04c7a6d818": {
      "model_module": "@jupyter-widgets/base",
      "model_module_version": "1.2.0",
      "model_name": "LayoutModel",
      "state": {}
     },
     "f32ae0325bb04a29bcedfcc89e5ec8a8": {
      "model_module": "@jupyter-widgets/base",
      "model_module_version": "1.2.0",
      "model_name": "LayoutModel",
      "state": {}
     },
     "f521c0ae26524282a11d400f2dbbbf01": {
      "model_module": "@jupyter-widgets/base",
      "model_module_version": "1.2.0",
      "model_name": "LayoutModel",
      "state": {}
     },
     "fc02258c018947d48e904d03d9d96b8d": {
      "model_module": "@jupyter-widgets/controls",
      "model_module_version": "1.5.0",
      "model_name": "VBoxModel",
      "state": {
       "children": [
        "IPY_MODEL_9ebdd1174f5842e8b6dd17103da0e0cc",
        "IPY_MODEL_e38b8c1d5d764dc7bb5e2d23f16ed8d9",
        "IPY_MODEL_7885a1b5d97447db80ad153d4e3426be",
        "IPY_MODEL_c051ed14f00f46eab692087b874597fb",
        "IPY_MODEL_347af42594174a22b1ceb564b822ee62"
       ],
       "layout": "IPY_MODEL_f521c0ae26524282a11d400f2dbbbf01"
      }
     }
    },
    "version_major": 2,
    "version_minor": 0
   }
  }
 },
 "nbformat": 4,
 "nbformat_minor": 4
}
