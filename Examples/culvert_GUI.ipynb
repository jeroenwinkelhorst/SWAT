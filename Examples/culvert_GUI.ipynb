{
 "cells": [
  {
   "cell_type": "markdown",
   "metadata": {},
   "source": [
    "<div style=\"text-align: right\"><img \n",
    "src=\"https://s3.eu-west-1.amazonaws.com/rhdhv.water-management-projecten/Algemeen/logo_WMlab.JPG\"  width=\"80\" align=\"right\" style=\"margin: 0px 0px 10px 10px;\">\n",
    "</div>\n",
    "<div style=\"text-align: right\"><img src=\"https://www.royalhaskoningdhv.com/-/media/royalhaskoningdhvcorporate/images/logos/logo-rhdhv-small.png\" align=\"right\" style=\"margin: 0px 0px 10px 10px;\"></div>\n"
   ]
  },
  {
   "cell_type": "markdown",
   "metadata": {},
   "source": [
    "___\n",
    "# Culvert calculation - Gelok method \n",
    "The notebook contains the Gelok method which is applicable for culverts, inlets and siphons. This method calculates the discharge through a structure given the gross head (or vice versa). <br>\n",
    "The formula's used in this calculation sheet are added as an appendix.\n",
    "___"
   ]
  },
  {
   "cell_type": "markdown",
   "metadata": {},
   "source": [
    "<div style=\"font-size: 9pt; text-align: right; font-style: italic\">Latest template update: 03-09-2021</div>"
   ]
  },
  {
   "cell_type": "markdown",
   "metadata": {},
   "source": [
    "<table>\n",
    "<tr style=\"background-color:#FFFFFF\">\n",
    "    <td style=\"text-align:left; width: 140px;\"> <i>Project:</i>\n",
    "    </td>\n",
    "    <td style=\"text-align:left; width: 400px;\">(project name)\n",
    "    </td>\n",
    "    <td style=\"text-align:left; width: 140px;\"> <i>Date:</i>\n",
    "    </td>\n",
    "    <td style=\"text-align:left;\">yyyy-mm-dd\n",
    "    </td>\n",
    "</tr>\n",
    "<tr style=\"background-color:#FFFFFF\">\n",
    "    <td style=\"text-align:left;\"> <i>Project number:</i>\n",
    "    </td>\n",
    "    <td style=\"text-align:left;\">AB1234\n",
    "    </td>\n",
    "    <td style=\"text-align:left;\"> <i>Quality check:</i>\n",
    "    </td>\n",
    "    <td style=\"text-align:left;\">(name quality checker)\n",
    "    </td>\n",
    "</tr>\n",
    "<tr style=\"background-color:#FFFFFF\">\n",
    "    <td style=\"text-align:left;\"> <i>Author:</i>\n",
    "    </td>\n",
    "    <td style=\"text-align:left;\">(name author)\n",
    "    </td>\n",
    "</tr>\n",
    "</table>"
   ]
  },
  {
   "cell_type": "code",
   "execution_count": null,
   "metadata": {},
   "outputs": [],
   "source": [
    "import os\n",
    "import swat\n",
    "if os.environ.get('WMLAB_IMAGE_TAG') is not None:\n",
    "    wmlab_log_usage(toolName=swat.__title__, toolVersion=swat.__version__)\n",
    "\n",
    "from swat.culvert_layout import CulvertNotebookLayout\n",
    "nb = CulvertNotebookLayout()\n",
    "nb.run()\n"
   ]
  },
  {
   "cell_type": "markdown",
   "metadata": {},
   "source": [
    "___\n",
    "# Appendix - formula's used in this calculation sheet\n",
    "\n",
    "\n",
    "Gelok formula:\n",
    "\n",
    "$Q=\\mu \\cdot A \\sqrt{ 2 \\cdot g \\cdot z}$\n",
    "\n",
    "<i>where:</i>\n",
    "\n",
    "$Q \\ [m^3/s]$ = Discharge<br>\n",
    "$\\mu \\ [-]$ = Discharge coefficient<br> \n",
    "$A \\ [m^3/s]$ = Wet area culvert<br>\n",
    "$g \\ [m/s^2]$ = Gravitational acceleration<br>\n",
    "$z \\ [m]$ = Gross head (water level difference between head and tail of the culvert)<br><br>\n",
    "\n",
    "\n",
    "The discharge coefficient is calculated as follows:\n",
    "<br>\n",
    "$\\mu = \\dfrac{1}{\\sqrt{\\varepsilon_{in} + \\varepsilon_{friction} + \\varepsilon_{out} + \\varepsilon_{other} } } $ \n",
    "<br>\n",
    "\n",
    "<br><i>where:</i><br>\n",
    "$\\varepsilon_{in} \\ [-]$ = Inlet loss coefficient<br>\n",
    "$\\varepsilon_{friction} \\ [-]$ = Friction loss coefficient<br>\n",
    "$\\varepsilon_{out} \\ [-]$ = Outlet loss coefficient<br>\n",
    "$\\varepsilon_{other} \\ [-]$ = Other losses (e.g. bend losses)<br><br>\n",
    "\n",
    "The friction and outlet losses are calculated using the following formulae:<br>\n",
    "$ \\varepsilon_{friction} = \\dfrac{2 \\cdot g \\cdot L}{(k_M \\cdot R^{1/6})^2 \\cdot R} $\n",
    "<br>\n",
    "$ \\varepsilon_{out} = (1-\\alpha)^2 \\cdot k $\n",
    "<br>\n",
    "$\\alpha = \\dfrac{A}{A_{channel}} $\n",
    "<br>\n",
    "<br><br>\n",
    "<i>where:</i><br>\n",
    "$L \\ [m]$ = Length culvert <br>\n",
    "$k_M \\ [\\dfrac{m^{1/3}}{s}] $ = Manning roughness value<br>\n",
    "$R \\ [m] $ = Hydraulic perimeter culvert<br>\n",
    "$A_{channel} \\ [m^2]$ = Wet area downstream channel <br>\n",
    "$ k $ = shape dependent coefficient (1 = total loss of kinetic energy)\n",
    "<br><br>\n",
    "Source: Richtlijnen voor het berekenen van afwateringsstelsels in landelijke gebieden, Gelok, 1969 (https://edepot.wur.nl/188158)\n",
    "This method is described in 'Cultuur Technisch Vademecum 1988' (https://edepot.wur.nl/188194), page 803-812.\n"
   ]
  },
  {
   "cell_type": "code",
   "execution_count": null,
   "metadata": {},
   "outputs": [],
   "source": []
  }
 ],
 "metadata": {
  "kernelspec": {
   "display_name": "Python 3 (ipykernel)",
   "language": "python",
   "name": "python3"
  },
  "language_info": {
   "codemirror_mode": {
    "name": "ipython",
    "version": 3
   },
   "file_extension": ".py",
   "mimetype": "text/x-python",
   "name": "python",
   "nbconvert_exporter": "python",
   "pygments_lexer": "ipython3",
   "version": "3.9.9"
  },
  "widgets": {
   "application/vnd.jupyter.widget-state+json": {
    "state": {
     "006e219bb9b1403390455e0c8edbda3e": {
      "model_module": "@jupyter-widgets/controls",
      "model_module_version": "1.5.0",
      "model_name": "ToggleButtonsStyleModel",
      "state": {
       "button_width": "",
       "description_width": "200px"
      }
     },
     "060542024c8c420a9050b4f976d09109": {
      "model_module": "@jupyter-widgets/base",
      "model_module_version": "1.2.0",
      "model_name": "LayoutModel",
      "state": {}
     },
     "06bf7dcf4d254128a0f32b93d8f8673c": {
      "model_module": "@jupyter-widgets/controls",
      "model_module_version": "1.5.0",
      "model_name": "FloatTextModel",
      "state": {
       "description": "Froude number []",
       "disabled": true,
       "layout": "IPY_MODEL_c4cabb11d1b94462bcf8286f44bc25bb",
       "step": null,
       "style": "IPY_MODEL_c3034360484846bea29a97d00399ba98"
      }
     },
     "0717d398a5bd4bde837b79f451a63b72": {
      "model_module": "@jupyter-widgets/base",
      "model_module_version": "1.2.0",
      "model_name": "LayoutModel",
      "state": {}
     },
     "071bad57589146409843a5df1c6d1ee6": {
      "model_module": "@jupyter-widgets/controls",
      "model_module_version": "1.5.0",
      "model_name": "BoundedFloatTextModel",
      "state": {
       "description": "Shape coefficient \\( k [-] \\):",
       "layout": "IPY_MODEL_33c0423dfd2d47eba4c3bda10dfa03f5",
       "max": 1,
       "step": 0.01,
       "style": "IPY_MODEL_927634a5297f42338e795441fa0da6cb",
       "value": 1
      }
     },
     "09c98be72a504c0c9c25033aacc35d81": {
      "model_module": "@jupyter-widgets/controls",
      "model_module_version": "1.5.0",
      "model_name": "ToggleButtonsModel",
      "state": {
       "_options_labels": [
        "dz",
        "q"
       ],
       "button_style": "",
       "description": "Parameter to calculate:",
       "disabled": true,
       "icons": [],
       "index": 0,
       "layout": "IPY_MODEL_cd85149c6c2644c483fbaafa930e4724",
       "style": "IPY_MODEL_69d4eaa1be1c4f7c99cdd0ffc93e78e8",
       "tooltips": [
        "Head loss",
        "Discharge"
       ]
      }
     },
     "09e2d725f5f944c0a804f29c4aa20be1": {
      "model_module": "@jupyter-widgets/controls",
      "model_module_version": "1.5.0",
      "model_name": "DescriptionStyleModel",
      "state": {
       "description_width": "200px"
      }
     },
     "0b185539de434611a005aae10a9fc662": {
      "model_module": "@jupyter-widgets/controls",
      "model_module_version": "1.5.0",
      "model_name": "DescriptionStyleModel",
      "state": {
       "description_width": "200px"
      }
     },
     "0b5e6cf8e2fa4500b17a684dbec8a9ac": {
      "model_module": "@jupyter-widgets/base",
      "model_module_version": "1.2.0",
      "model_name": "LayoutModel",
      "state": {
       "margin": "20px",
       "width": "initial"
      }
     },
     "0c2e8fbff3f04e1d9f15669373f8ba74": {
      "model_module": "@jupyter-widgets/controls",
      "model_module_version": "1.5.0",
      "model_name": "HTMLModel",
      "state": {
       "layout": "IPY_MODEL_4f2633ae288d4455ac283aef264d62aa",
       "style": "IPY_MODEL_a4d0f8c8e8e3447b983b194f38c81bfd"
      }
     },
     "0e7795f72722490391788df5e8c01a44": {
      "model_module": "@jupyter-widgets/controls",
      "model_module_version": "1.5.0",
      "model_name": "VBoxModel",
      "state": {
       "children": [
        "IPY_MODEL_16d5c3bfa14546eca6513ff5ae5a5288",
        "IPY_MODEL_e9b2b1468ab3442c81ad2444027590d5",
        "IPY_MODEL_6b4f6130728b488da020a131619b9909",
        "IPY_MODEL_30a96a92882b4774990ea018ebf9c10a",
        "IPY_MODEL_cd0443c286c2433e8c3af11cd11f043d",
        "IPY_MODEL_72dbe225e84b4f8db3a2ed2d8f82b33b",
        "IPY_MODEL_3b7f54d367194cbcbd6f390b1d438906",
        "IPY_MODEL_662250c34df941ac8011f7ad176a2e46",
        "IPY_MODEL_7e1ed2ebb535499b81aeadb591bd1227"
       ],
       "layout": "IPY_MODEL_5ae738f6ecab4836a0b06ffd1795f2b1"
      }
     },
     "112f23f9e65943f59240f61150d67fb4": {
      "model_module": "@jupyter-widgets/controls",
      "model_module_version": "1.5.0",
      "model_name": "DescriptionStyleModel",
      "state": {
       "description_width": "200px"
      }
     },
     "11d425352fe5477d9d2a698905ebc8e1": {
      "model_module": "@jupyter-widgets/base",
      "model_module_version": "1.2.0",
      "model_name": "LayoutModel",
      "state": {}
     },
     "12099743dfe9479aa7a9935b3dcfa783": {
      "model_module": "@jupyter-widgets/base",
      "model_module_version": "1.2.0",
      "model_name": "LayoutModel",
      "state": {}
     },
     "12857b3206064e41b70b10e0870d06fb": {
      "model_module": "@jupyter-widgets/base",
      "model_module_version": "1.2.0",
      "model_name": "LayoutModel",
      "state": {}
     },
     "12cb611bb8fc48cabb317b03f41e8f7d": {
      "model_module": "@jupyter-widgets/base",
      "model_module_version": "1.2.0",
      "model_name": "LayoutModel",
      "state": {}
     },
     "136ea9a79de1431baefec5bebb042334": {
      "model_module": "@jupyter-widgets/base",
      "model_module_version": "1.2.0",
      "model_name": "LayoutModel",
      "state": {
       "margin": "20px",
       "width": "initial"
      }
     },
     "163f62cbb9b34654845dd1d309541de5": {
      "model_module": "@jupyter-widgets/base",
      "model_module_version": "1.2.0",
      "model_name": "LayoutModel",
      "state": {}
     },
     "16d5c3bfa14546eca6513ff5ae5a5288": {
      "model_module": "@jupyter-widgets/controls",
      "model_module_version": "1.5.0",
      "model_name": "HTMLModel",
      "state": {
       "layout": "IPY_MODEL_b080b6d9389c4faab4a3c0492f0968f5",
       "style": "IPY_MODEL_7a299cd0f65f4e17b20556afa386e586",
       "value": "<p style='font-family:verdana; font-size:24px;padding:20px'>Geometry</p>"
      }
     },
     "16dbfea1ddc24072bf40156b23f8a8b1": {
      "model_module": "@jupyter-widgets/base",
      "model_module_version": "1.2.0",
      "model_name": "LayoutModel",
      "state": {}
     },
     "171c1f3adee840428fdbc033d0a1c466": {
      "model_module": "@jupyter-widgets/base",
      "model_module_version": "1.2.0",
      "model_name": "LayoutModel",
      "state": {
       "margin": "20px"
      }
     },
     "19649c8ea3d14be290fd66269ee7540f": {
      "model_module": "@jupyter-widgets/controls",
      "model_module_version": "1.5.0",
      "model_name": "DescriptionStyleModel",
      "state": {
       "description_width": ""
      }
     },
     "1a6e155e17c341bc895707b5d07bfe2e": {
      "model_module": "@jupyter-widgets/base",
      "model_module_version": "1.2.0",
      "model_name": "LayoutModel",
      "state": {}
     },
     "1c3ea371f5d2470887d91cebf45d28c5": {
      "model_module": "@jupyter-widgets/controls",
      "model_module_version": "1.5.0",
      "model_name": "HTMLModel",
      "state": {
       "layout": "IPY_MODEL_2179064c150348108e1e84ef5dbb9ed0",
       "style": "IPY_MODEL_c62519b5ff144a6d9d2e4ec04f47e851",
       "value": "<p style='font-family:verdana; font-style: italic;'>Outlet loss</p>"
      }
     },
     "1daac68b659543a0a125c58dc6e6e5c4": {
      "model_module": "@jupyter-widgets/controls",
      "model_module_version": "1.5.0",
      "model_name": "DescriptionStyleModel",
      "state": {
       "description_width": "200px"
      }
     },
     "2027c5e3e7104df7b51ac29c172828a1": {
      "model_module": "@jupyter-widgets/controls",
      "model_module_version": "1.5.0",
      "model_name": "ToggleButtonsModel",
      "state": {
       "_options_labels": [
        "round",
        "rectangle"
       ],
       "button_style": "",
       "description": "Choose culvert shape:",
       "disabled": true,
       "icons": [],
       "index": 0,
       "layout": "IPY_MODEL_4ea646c1c6ff453098fd1130e5908ed7",
       "style": "IPY_MODEL_006e219bb9b1403390455e0c8edbda3e",
       "tooltips": [
        ""
       ]
      }
     },
     "20549630d7e249e4a47fc04176be4eb8": {
      "model_module": "@jupyter-widgets/base",
      "model_module_version": "1.2.0",
      "model_name": "LayoutModel",
      "state": {}
     },
     "20f2d602337f48e3a99c75656e7e53c4": {
      "model_module": "@jupyter-widgets/controls",
      "model_module_version": "1.5.0",
      "model_name": "ButtonModel",
      "state": {
       "description": "Freeze initial parameters and start calculation",
       "layout": "IPY_MODEL_136ea9a79de1431baefec5bebb042334",
       "style": "IPY_MODEL_c27f06b6b0b54c808831c6cc9d6dc863"
      }
     },
     "2179064c150348108e1e84ef5dbb9ed0": {
      "model_module": "@jupyter-widgets/base",
      "model_module_version": "1.2.0",
      "model_name": "LayoutModel",
      "state": {}
     },
     "23ea6da4bc94445d83f38d6b5394d1a3": {
      "model_module": "@jupyter-widgets/controls",
      "model_module_version": "1.5.0",
      "model_name": "DescriptionStyleModel",
      "state": {
       "description_width": "200px"
      }
     },
     "2966481a9b1d48639a72162eecc51ea0": {
      "model_module": "@jupyter-widgets/base",
      "model_module_version": "1.2.0",
      "model_name": "LayoutModel",
      "state": {}
     },
     "2a2cb56a0457451081252dcde13a9956": {
      "model_module": "@jupyter-widgets/controls",
      "model_module_version": "1.5.0",
      "model_name": "DescriptionStyleModel",
      "state": {
       "description_width": "200px"
      }
     },
     "2b4d882348b447239c269a89da42961c": {
      "model_module": "@jupyter-widgets/controls",
      "model_module_version": "1.5.0",
      "model_name": "ButtonModel",
      "state": {
       "description": "Freeze initial parameters and start calculation",
       "layout": "IPY_MODEL_0b5e6cf8e2fa4500b17a684dbec8a9ac",
       "style": "IPY_MODEL_a16e6498b46246309941346bb5f3e1ed"
      }
     },
     "2cf1695ad19541eab5f3d26c74af45c7": {
      "model_module": "@jupyter-widgets/controls",
      "model_module_version": "1.5.0",
      "model_name": "VBoxModel",
      "state": {
       "children": [
        "IPY_MODEL_4068baf265ad4fc297bc11ddff258d06",
        "IPY_MODEL_071bad57589146409843a5df1c6d1ee6"
       ],
       "layout": "IPY_MODEL_a78ca0b3c3d74147a8dc0c5905a676bf"
      }
     },
     "2f5af2eac80449c1a0a73fbdb41a878d": {
      "model_module": "@jupyter-widgets/controls",
      "model_module_version": "1.5.0",
      "model_name": "DescriptionStyleModel",
      "state": {
       "description_width": "200px"
      }
     },
     "30a96a92882b4774990ea018ebf9c10a": {
      "model_module": "@jupyter-widgets/controls",
      "model_module_version": "1.5.0",
      "model_name": "HBoxModel",
      "state": {
       "children": [
        "IPY_MODEL_c1081d119c4c453aa828bf1654de9266",
        "IPY_MODEL_c8071de289794d8b839065cab9a926f9"
       ],
       "layout": "IPY_MODEL_1a6e155e17c341bc895707b5d07bfe2e"
      }
     },
     "324f8ed284e24597b4de2f0b2c96edbd": {
      "model_module": "@jupyter-widgets/controls",
      "model_module_version": "1.5.0",
      "model_name": "DescriptionStyleModel",
      "state": {
       "description_width": ""
      }
     },
     "330bc093d81a4382b08d274a70cada33": {
      "model_module": "@jupyter-widgets/controls",
      "model_module_version": "1.5.0",
      "model_name": "DescriptionStyleModel",
      "state": {
       "description_width": ""
      }
     },
     "33c0423dfd2d47eba4c3bda10dfa03f5": {
      "model_module": "@jupyter-widgets/base",
      "model_module_version": "1.2.0",
      "model_name": "LayoutModel",
      "state": {}
     },
     "3492986c94ed4aa28491fc36b29541a3": {
      "model_module": "@jupyter-widgets/base",
      "model_module_version": "1.2.0",
      "model_name": "LayoutModel",
      "state": {}
     },
     "3b625cb0ea8c4dfc844660280aaf7f41": {
      "model_module": "@jupyter-widgets/base",
      "model_module_version": "1.2.0",
      "model_name": "LayoutModel",
      "state": {}
     },
     "3b7f54d367194cbcbd6f390b1d438906": {
      "model_module": "@jupyter-widgets/controls",
      "model_module_version": "1.5.0",
      "model_name": "HTMLModel",
      "state": {
       "layout": "IPY_MODEL_857fdaa4ff9d4930b0153e8038566092",
       "style": "IPY_MODEL_b9940d3c78cf4a92b70ee988991b4c7c",
       "value": "<p style='font-family:verdana; font-size:24px;padding:20px'>Energy losses</p>"
      }
     },
     "3d22a6e596694286af9a22d927d3690e": {
      "model_module": "@jupyter-widgets/base",
      "model_module_version": "1.2.0",
      "model_name": "LayoutModel",
      "state": {}
     },
     "3d72a4b1e4094d7d91a5ccd3addfd109": {
      "model_module": "@jupyter-widgets/base",
      "model_module_version": "1.2.0",
      "model_name": "LayoutModel",
      "state": {}
     },
     "3f0876c6a76c4f329ff9ba5b130fdabc": {
      "model_module": "@jupyter-widgets/base",
      "model_module_version": "1.2.0",
      "model_name": "LayoutModel",
      "state": {}
     },
     "4068baf265ad4fc297bc11ddff258d06": {
      "model_module": "@jupyter-widgets/controls",
      "model_module_version": "1.5.0",
      "model_name": "BoundedFloatTextModel",
      "state": {
       "description": "Fraction wet area \\(\\alpha \\ [-] \\):",
       "layout": "IPY_MODEL_7091bc124c234f338297e75d2988de59",
       "max": 1,
       "step": 0.01,
       "style": "IPY_MODEL_e0f4dce136e3406f97b33298d21495d2",
       "value": 0.5
      }
     },
     "4774eecd3892479d9fbd110d99eddd70": {
      "model_module": "@jupyter-widgets/controls",
      "model_module_version": "1.5.0",
      "model_name": "ButtonStyleModel",
      "state": {}
     },
     "495e2c43de55496281f0ea638874b204": {
      "model_module": "@jupyter-widgets/controls",
      "model_module_version": "1.5.0",
      "model_name": "BoundedIntTextModel",
      "state": {
       "description": "Roughness \\(k_M [ m^{1/3} / s ]\\):",
       "layout": "IPY_MODEL_940633daa9b844ac8dccbdf441008207",
       "max": 200,
       "min": 1,
       "style": "IPY_MODEL_9071b12807194fceb1f4ed91ada66b76",
       "value": 75
      }
     },
     "4b75630c62cc48bab39860387180b404": {
      "model_module": "@jupyter-widgets/controls",
      "model_module_version": "1.5.0",
      "model_name": "DescriptionStyleModel",
      "state": {
       "description_width": ""
      }
     },
     "4bf0a059ffeb4f1d8e7246cb702def54": {
      "model_module": "@jupyter-widgets/controls",
      "model_module_version": "1.5.0",
      "model_name": "HTMLModel",
      "state": {
       "layout": "IPY_MODEL_f84ab78af0b44c16b3aa0b35386e4b6e",
       "style": "IPY_MODEL_330bc093d81a4382b08d274a70cada33",
       "value": "<p style='font-family:verdana; font-size:12px;'>Format: x1, x2, x3, ..</p>"
      }
     },
     "4da96db9308249228174ef535cababd1": {
      "model_module": "@jupyter-widgets/controls",
      "model_module_version": "1.5.0",
      "model_name": "DescriptionStyleModel",
      "state": {
       "description_width": ""
      }
     },
     "4ea646c1c6ff453098fd1130e5908ed7": {
      "model_module": "@jupyter-widgets/base",
      "model_module_version": "1.2.0",
      "model_name": "LayoutModel",
      "state": {}
     },
     "4eda84ec8720461d88fbf1ebe406d5ab": {
      "model_module": "@jupyter-widgets/base",
      "model_module_version": "1.2.0",
      "model_name": "LayoutModel",
      "state": {}
     },
     "4f2633ae288d4455ac283aef264d62aa": {
      "model_module": "@jupyter-widgets/base",
      "model_module_version": "1.2.0",
      "model_name": "LayoutModel",
      "state": {}
     },
     "502b1b042f2347fa9ef9dd0c92f16829": {
      "model_module": "@jupyter-widgets/controls",
      "model_module_version": "1.5.0",
      "model_name": "FloatTextModel",
      "state": {
       "description": "Wet Area channel [m2]",
       "disabled": true,
       "layout": "IPY_MODEL_12099743dfe9479aa7a9935b3dcfa783",
       "step": null,
       "style": "IPY_MODEL_e733a99a86cb4869ad59747530aeace3"
      }
     },
     "50e262c4df6b46bd9b2f43715275b976": {
      "model_module": "@jupyter-widgets/controls",
      "model_module_version": "1.5.0",
      "model_name": "DescriptionStyleModel",
      "state": {
       "description_width": ""
      }
     },
     "52b5235e2ca4470e9d714eb132b3a6f1": {
      "model_module": "@jupyter-widgets/controls",
      "model_module_version": "1.5.0",
      "model_name": "ToggleButtonsStyleModel",
      "state": {
       "button_width": "",
       "description_width": "200px"
      }
     },
     "5383b5421d7340839b6f45d3771d2298": {
      "model_module": "@jupyter-widgets/controls",
      "model_module_version": "1.5.0",
      "model_name": "HTMLModel",
      "state": {
       "layout": "IPY_MODEL_060542024c8c420a9050b4f976d09109",
       "style": "IPY_MODEL_4da96db9308249228174ef535cababd1",
       "value": "<p style='font-family:verdana; font-size:24px; padding:20px'>Initial parameters</p>"
      }
     },
     "548344162bbd48ab9c15d8099488464b": {
      "model_module": "@jupyter-widgets/base",
      "model_module_version": "1.2.0",
      "model_name": "LayoutModel",
      "state": {}
     },
     "57f09ca40cc04cd3a229fd193df011ae": {
      "model_module": "@jupyter-widgets/base",
      "model_module_version": "1.2.0",
      "model_name": "LayoutModel",
      "state": {}
     },
     "588f4a9387eb4db2898ef85ce092aa33": {
      "model_module": "@jupyter-widgets/controls",
      "model_module_version": "1.5.0",
      "model_name": "VBoxModel",
      "state": {
       "children": [
        "IPY_MODEL_d2cb5dc199864298b71f7a93828794dc",
        "IPY_MODEL_502b1b042f2347fa9ef9dd0c92f16829"
       ],
       "layout": "IPY_MODEL_3f0876c6a76c4f329ff9ba5b130fdabc"
      }
     },
     "5ae738f6ecab4836a0b06ffd1795f2b1": {
      "model_module": "@jupyter-widgets/base",
      "model_module_version": "1.2.0",
      "model_name": "LayoutModel",
      "state": {}
     },
     "621bcdf26c6f4787b8a91d94ee872bc0": {
      "model_module": "@jupyter-widgets/base",
      "model_module_version": "1.2.0",
      "model_name": "LayoutModel",
      "state": {}
     },
     "64c834ac9aa84439aef4cfbb63410e3d": {
      "model_module": "@jupyter-widgets/controls",
      "model_module_version": "1.5.0",
      "model_name": "ToggleButtonsModel",
      "state": {
       "_options_labels": [
        "round",
        "rectangle"
       ],
       "button_style": "",
       "description": "Choose culvert shape:",
       "icons": [],
       "index": 0,
       "layout": "IPY_MODEL_20549630d7e249e4a47fc04176be4eb8",
       "style": "IPY_MODEL_94c4d9fe7fe94f6281f55a5831fc3529",
       "tooltips": [
        ""
       ]
      }
     },
     "662250c34df941ac8011f7ad176a2e46": {
      "model_module": "@jupyter-widgets/controls",
      "model_module_version": "1.5.0",
      "model_name": "HTMLModel",
      "state": {
       "layout": "IPY_MODEL_e1dbdf459a3544a5be14fc7cbbc2aa2a",
       "style": "IPY_MODEL_19649c8ea3d14be290fd66269ee7540f",
       "value": "<p style='font-family:verdana; font-size:12px;'>The parameter description can be found in de appendix</p>"
      }
     },
     "68bf38117df14e0db462349b27d40f80": {
      "model_module": "@jupyter-widgets/base",
      "model_module_version": "1.2.0",
      "model_name": "LayoutModel",
      "state": {
       "width": "800px"
      }
     },
     "69d4eaa1be1c4f7c99cdd0ffc93e78e8": {
      "model_module": "@jupyter-widgets/controls",
      "model_module_version": "1.5.0",
      "model_name": "ToggleButtonsStyleModel",
      "state": {
       "button_width": "",
       "description_width": "200px"
      }
     },
     "6b09af2443384f348660e31dec6a4d94": {
      "model_module": "@jupyter-widgets/controls",
      "model_module_version": "1.5.0",
      "model_name": "DescriptionStyleModel",
      "state": {
       "description_width": "200px"
      }
     },
     "6b4f6130728b488da020a131619b9909": {
      "model_module": "@jupyter-widgets/controls",
      "model_module_version": "1.5.0",
      "model_name": "HBoxModel",
      "state": {
       "children": [
        "IPY_MODEL_c689c2237f1f4685b3c4ab6949ea93a9",
        "IPY_MODEL_4bf0a059ffeb4f1d8e7246cb702def54"
       ],
       "layout": "IPY_MODEL_f9748e34143441cfbdf0061bb41660aa"
      }
     },
     "6b8b8285002c4951bd8ae0fa3a4fff12": {
      "model_module": "@jupyter-widgets/controls",
      "model_module_version": "1.5.0",
      "model_name": "BoundedFloatTextModel",
      "state": {
       "description": "Culvert diameter [m]:",
       "layout": "IPY_MODEL_76d3109ea97a4391bdea5910a8443f4c",
       "max": 10,
       "step": 0.01,
       "style": "IPY_MODEL_bfdcfa7a22424d5a8915ae7e47192122",
       "value": 1
      }
     },
     "6c10a89e7da043c7baf55529ba4bdcef": {
      "model_module": "@jupyter-widgets/base",
      "model_module_version": "1.2.0",
      "model_name": "LayoutModel",
      "state": {}
     },
     "6c7b6f24defb403db482454dbff6bcef": {
      "model_module": "@jupyter-widgets/base",
      "model_module_version": "1.2.0",
      "model_name": "LayoutModel",
      "state": {}
     },
     "6dcf4ace2ec844fe9ce2ce42e7516d3f": {
      "model_module": "@jupyter-widgets/controls",
      "model_module_version": "1.5.0",
      "model_name": "DescriptionStyleModel",
      "state": {
       "description_width": "200px"
      }
     },
     "6e7571c5642d45cd9d60c5047df4384d": {
      "model_module": "@jupyter-widgets/controls",
      "model_module_version": "1.5.0",
      "model_name": "DescriptionStyleModel",
      "state": {
       "description_width": ""
      }
     },
     "6f0256a6a0c94a56a7a32a59ceebd92f": {
      "model_module": "@jupyter-widgets/controls",
      "model_module_version": "1.5.0",
      "model_name": "HTMLModel",
      "state": {
       "layout": "IPY_MODEL_548344162bbd48ab9c15d8099488464b",
       "style": "IPY_MODEL_50e262c4df6b46bd9b2f43715275b976",
       "value": "<p style='font-family:verdana; font-style: italic;'>Inlet loss</p>"
      }
     },
     "6fa2f5249e6b4eb6bf17874f69fb8acc": {
      "model_module": "@jupyter-widgets/base",
      "model_module_version": "1.2.0",
      "model_name": "LayoutModel",
      "state": {}
     },
     "6fd8e2bba3a8487d8b72e6b0a251cd16": {
      "model_module": "@jupyter-widgets/base",
      "model_module_version": "1.2.0",
      "model_name": "LayoutModel",
      "state": {}
     },
     "7034eee26dae43dc926d6392a0193fe3": {
      "model_module": "@jupyter-widgets/controls",
      "model_module_version": "1.5.0",
      "model_name": "FloatTextModel",
      "state": {
       "description": "Discharge coefficient \\( \\mu \\) [-]",
       "disabled": true,
       "layout": "IPY_MODEL_3492986c94ed4aa28491fc36b29541a3",
       "step": null,
       "style": "IPY_MODEL_f6875e9d28194f3f8172173ac166d548"
      }
     },
     "7091bc124c234f338297e75d2988de59": {
      "model_module": "@jupyter-widgets/base",
      "model_module_version": "1.2.0",
      "model_name": "LayoutModel",
      "state": {}
     },
     "71cdca1384184abe98587b5167da3993": {
      "model_module": "@jupyter-widgets/controls",
      "model_module_version": "1.5.0",
      "model_name": "HTMLModel",
      "state": {
       "layout": "IPY_MODEL_c21ca3a85b9d4d61b910b8af7c7c684c",
       "style": "IPY_MODEL_82a46ee1366e44ad8c4701afd9c41fb3",
       "value": "<p style='font-family:verdana; font-size:12px;'>(dz = headloss; q = discharge)</p>"
      }
     },
     "72dbe225e84b4f8db3a2ed2d8f82b33b": {
      "buffers": [
       {
        "data": "AAAAAAAA4D+VSynBge/fP2j6BgUYvt8/Jek3u/Vr3z8jfxaOb/neP/FJcov7Zt4/XLHeqjC13T9+NRQyxuTcP1+hBPiS9ts/uvBkh4zr2j9WMpEhxsTZPzlQz6Jvg9g/tTkVSdQo1z+WUJVeWbbVP0ATccl8LdQ/A6sNgtOP0j9cLKDxB9/QP1a1P3WwOc4/thLH2SiWyj+KU4hOOdfGP1tDY1G+AMM/jFrgSlktvj+Mcwt+Gjq2PyLsuGvkX6w/cyCwKKhcmD/N+ijPKj+AvwzJ6KS5SaS/3kQPZF83sr9P3qvaGje6v5OAwi7oDcG/PSGBd67uxL83i/Tn4LnIv4vJmF6Wa8y/AgAAAAAA0L/P5tyRtrnRv860DJEnYdO/hlh3f5701L/bPrV2e3LWv11Sx9Q02de/JuDa0Vgn2b9dHHf9jlvav4pZi6GZdNu/wfLvCVdx3L/ZTwivwlDdvxstUkL2Ed6/V1DNmyq03r9D8kaHuDbfvwQ9tXAZmd+/XjTx7ufa378HB0As4PvfvwcHQCzg+9+/XjTx7ufa378EPbVwGZnfv0PyRoe4Nt+/V1DNmyq03r8cLVJC9hHev9lPCK/CUN2/wvLvCVdx3L+JWYuhmXTbv14cd/2OW9q/JeDa0Vgn2b9eUsfUNNnXv9o+tXZ7cta/iFh3f5701L/MtAyRJ2HTv9Hm3JG2udG/+f//////z7+IyZhelmvMvzeL9Ofguci/QSGBd67uxL+MgMIu6A3Bv0jeq9oaN7q/3kQPZF83sr8eyeikuUmkv1T6KM8qP4C/kCCwKKhcmD8R7Lhr5F+sP3xzC34aOrY/k1rgSlktvj9bQ2NRvgDDP4ZTiE4518Y/vRLH2SiWyj9ZtT91sDnOP1wsoPEH39A/AasNgtOP0j9DE3HJfC3UP5dQlV5ZttU/tDkVSdQo1z83UM+ib4PYP1cykSHGxNk/uvBkh4zr2j9eoQT4kvbbP301FDLG5Nw/XbHeqjC13T/xSXKL+2bePyN/Fo5v+d4/Juk3u/Vr3z9o+gYFGL7fP5VLKcGB798/AAAAAAAA4D8=",
        "encoding": "base64",
        "path": [
         "_data",
         0,
         "x",
         "value"
        ]
       },
       {
        "data": "AAAAAAAA4D9gWMvMyAPhP35QAM+FBuI/khUUUCwH4z8mYnbAswTkP/aHSMgW/uQ//2TDVFTy5T8gkDahcODmP0aTjzp2x+c/Bqxd/Ham6D+jQk0GjXzpPw4LHqnbSOo/AIwfSpAK6z/DjEk848DrP0SgEI4Ya+w/y6Aiy4AI7T88Z0OxeZjtPxlOj9duGu4/ChZ3R9qN7j/geNcGRfLuP/4RnpJHR+8/cC99SYqM7z8MjkDGxcHvPxrjZSnD5u8/QlatUVz77z/4nGcDfP/vPzMzWf4d8+8/eCEcAk/W7z/gy/vALKnvPwJWWMHla+8/4imxLbke7z/KEYiT9sHuP6gDYJH9Ve4/VSYsdD3b7T9Iq5TENFLtP0vBh8Rwu+w/UBSd3YwX7D/a8+EAMmfrP+lDs/gVq+o/ebxYrfrj6T8ToyJdrRLpP7EJ2MgFOOg/PKpPVeVU5z92oBgjNmrmP/6CIh3qeOU/cKNd//mB5D89hVRWZIbjP53Yxngsh+I/PnVUfFmF4T/d5ksm9YHgP0MyaLMV/N4/gxVXB0313D/FTnIOp/HaP4n1VlM389g/H7lEAQz81j8G+rrFKw7VPxK/zrmTK9M/iatgVTVW0T862Z/c6B/PP7hzdYtKtcs/Gg6dShVwyD9e8DIdqFPFP5IwePw3Y8I/gF0XE5lDvz+k9cHbeSS6P8ClWttZbrU/UM2eXhQmsT9wxf/pJqCqP2jjfseW4KM/wMPaSdoonD/AP/XUR4OSPyAIDcHPtIU/QETv8X7YdD8Am5lNA8RZPwAQYQyTfxA/APqmSrmOQj8A5hya1jxpPwD6uN8cHX8/ICS0oG3djD8wwD2sDReXP/BxiJKv26A/cJ+OiFsipz94HguHElmuPyTG5HUyPLM/pPnqpvm7tz/o/XqPO6e8P/jM2Q5z/MA/ANCB177Vwz/C04dbkdzGP3j1yubLDco/7E+JDiRmzT9y2eCKE3HQP7zfkr0eP9I/BjZ5Vlcb1D8U8G5v0gPWP7I7E3+Y9tc/4NTXX6fx2T8GX/9h9PLbP0BPaWZu+N0//v//////3z8=",
        "encoding": "base64",
        "path": [
         "_data",
         0,
         "y",
         "value"
        ]
       }
      ],
      "model_module": "jupyterlab-plotly",
      "model_module_version": "^5.4.0",
      "model_name": "FigureModel",
      "state": {
       "_config": {
        "plotlyServerURL": "https://plot.ly"
       },
       "_data": [
        {
         "line": {
          "color": "black"
         },
         "name": "culvert",
         "type": "scatter",
         "uid": "cd0009ba-7ff5-4979-b70f-f5344ed5027c",
         "x": {
          "dtype": "float64",
          "shape": [
           100
          ],
          "value": {}
         },
         "y": {
          "dtype": "float64",
          "shape": [
           100
          ],
          "value": {}
         }
        },
        {
         "line": {
          "color": "blue"
         },
         "name": "water level downstream",
         "type": "scatter",
         "uid": "0efceb19-ea37-4639-9b4e-02962eb1c391",
         "x": [
          -0.49974827119159254,
          0.5
         ],
         "y": [
          0.75,
          0.75
         ]
        }
       ],
       "_js2py_restyle": {},
       "_js2py_update": {},
       "_last_layout_edit_id": 8,
       "_last_trace_edit_id": 5,
       "_layout": {
        "autosize": true,
        "template": {
         "data": {
          "bar": [
           {
            "error_x": {
             "color": "#2a3f5f"
            },
            "error_y": {
             "color": "#2a3f5f"
            },
            "marker": {
             "line": {
              "color": "white",
              "width": 0.5
             },
             "pattern": {
              "fillmode": "overlay",
              "size": 10,
              "solidity": 0.2
             }
            },
            "type": "bar"
           }
          ],
          "barpolar": [
           {
            "marker": {
             "line": {
              "color": "white",
              "width": 0.5
             },
             "pattern": {
              "fillmode": "overlay",
              "size": 10,
              "solidity": 0.2
             }
            },
            "type": "barpolar"
           }
          ],
          "carpet": [
           {
            "aaxis": {
             "endlinecolor": "#2a3f5f",
             "gridcolor": "#C8D4E3",
             "linecolor": "#C8D4E3",
             "minorgridcolor": "#C8D4E3",
             "startlinecolor": "#2a3f5f"
            },
            "baxis": {
             "endlinecolor": "#2a3f5f",
             "gridcolor": "#C8D4E3",
             "linecolor": "#C8D4E3",
             "minorgridcolor": "#C8D4E3",
             "startlinecolor": "#2a3f5f"
            },
            "type": "carpet"
           }
          ],
          "choropleth": [
           {
            "colorbar": {
             "outlinewidth": 0,
             "ticks": ""
            },
            "type": "choropleth"
           }
          ],
          "contour": [
           {
            "colorbar": {
             "outlinewidth": 0,
             "ticks": ""
            },
            "colorscale": [
             [
              0,
              "#0d0887"
             ],
             [
              0.1111111111111111,
              "#46039f"
             ],
             [
              0.2222222222222222,
              "#7201a8"
             ],
             [
              0.3333333333333333,
              "#9c179e"
             ],
             [
              0.4444444444444444,
              "#bd3786"
             ],
             [
              0.5555555555555556,
              "#d8576b"
             ],
             [
              0.6666666666666666,
              "#ed7953"
             ],
             [
              0.7777777777777778,
              "#fb9f3a"
             ],
             [
              0.8888888888888888,
              "#fdca26"
             ],
             [
              1,
              "#f0f921"
             ]
            ],
            "type": "contour"
           }
          ],
          "contourcarpet": [
           {
            "colorbar": {
             "outlinewidth": 0,
             "ticks": ""
            },
            "type": "contourcarpet"
           }
          ],
          "heatmap": [
           {
            "colorbar": {
             "outlinewidth": 0,
             "ticks": ""
            },
            "colorscale": [
             [
              0,
              "#0d0887"
             ],
             [
              0.1111111111111111,
              "#46039f"
             ],
             [
              0.2222222222222222,
              "#7201a8"
             ],
             [
              0.3333333333333333,
              "#9c179e"
             ],
             [
              0.4444444444444444,
              "#bd3786"
             ],
             [
              0.5555555555555556,
              "#d8576b"
             ],
             [
              0.6666666666666666,
              "#ed7953"
             ],
             [
              0.7777777777777778,
              "#fb9f3a"
             ],
             [
              0.8888888888888888,
              "#fdca26"
             ],
             [
              1,
              "#f0f921"
             ]
            ],
            "type": "heatmap"
           }
          ],
          "heatmapgl": [
           {
            "colorbar": {
             "outlinewidth": 0,
             "ticks": ""
            },
            "colorscale": [
             [
              0,
              "#0d0887"
             ],
             [
              0.1111111111111111,
              "#46039f"
             ],
             [
              0.2222222222222222,
              "#7201a8"
             ],
             [
              0.3333333333333333,
              "#9c179e"
             ],
             [
              0.4444444444444444,
              "#bd3786"
             ],
             [
              0.5555555555555556,
              "#d8576b"
             ],
             [
              0.6666666666666666,
              "#ed7953"
             ],
             [
              0.7777777777777778,
              "#fb9f3a"
             ],
             [
              0.8888888888888888,
              "#fdca26"
             ],
             [
              1,
              "#f0f921"
             ]
            ],
            "type": "heatmapgl"
           }
          ],
          "histogram": [
           {
            "marker": {
             "pattern": {
              "fillmode": "overlay",
              "size": 10,
              "solidity": 0.2
             }
            },
            "type": "histogram"
           }
          ],
          "histogram2d": [
           {
            "colorbar": {
             "outlinewidth": 0,
             "ticks": ""
            },
            "colorscale": [
             [
              0,
              "#0d0887"
             ],
             [
              0.1111111111111111,
              "#46039f"
             ],
             [
              0.2222222222222222,
              "#7201a8"
             ],
             [
              0.3333333333333333,
              "#9c179e"
             ],
             [
              0.4444444444444444,
              "#bd3786"
             ],
             [
              0.5555555555555556,
              "#d8576b"
             ],
             [
              0.6666666666666666,
              "#ed7953"
             ],
             [
              0.7777777777777778,
              "#fb9f3a"
             ],
             [
              0.8888888888888888,
              "#fdca26"
             ],
             [
              1,
              "#f0f921"
             ]
            ],
            "type": "histogram2d"
           }
          ],
          "histogram2dcontour": [
           {
            "colorbar": {
             "outlinewidth": 0,
             "ticks": ""
            },
            "colorscale": [
             [
              0,
              "#0d0887"
             ],
             [
              0.1111111111111111,
              "#46039f"
             ],
             [
              0.2222222222222222,
              "#7201a8"
             ],
             [
              0.3333333333333333,
              "#9c179e"
             ],
             [
              0.4444444444444444,
              "#bd3786"
             ],
             [
              0.5555555555555556,
              "#d8576b"
             ],
             [
              0.6666666666666666,
              "#ed7953"
             ],
             [
              0.7777777777777778,
              "#fb9f3a"
             ],
             [
              0.8888888888888888,
              "#fdca26"
             ],
             [
              1,
              "#f0f921"
             ]
            ],
            "type": "histogram2dcontour"
           }
          ],
          "mesh3d": [
           {
            "colorbar": {
             "outlinewidth": 0,
             "ticks": ""
            },
            "type": "mesh3d"
           }
          ],
          "parcoords": [
           {
            "line": {
             "colorbar": {
              "outlinewidth": 0,
              "ticks": ""
             }
            },
            "type": "parcoords"
           }
          ],
          "pie": [
           {
            "automargin": true,
            "type": "pie"
           }
          ],
          "scatter": [
           {
            "marker": {
             "colorbar": {
              "outlinewidth": 0,
              "ticks": ""
             }
            },
            "type": "scatter"
           }
          ],
          "scatter3d": [
           {
            "line": {
             "colorbar": {
              "outlinewidth": 0,
              "ticks": ""
             }
            },
            "marker": {
             "colorbar": {
              "outlinewidth": 0,
              "ticks": ""
             }
            },
            "type": "scatter3d"
           }
          ],
          "scattercarpet": [
           {
            "marker": {
             "colorbar": {
              "outlinewidth": 0,
              "ticks": ""
             }
            },
            "type": "scattercarpet"
           }
          ],
          "scattergeo": [
           {
            "marker": {
             "colorbar": {
              "outlinewidth": 0,
              "ticks": ""
             }
            },
            "type": "scattergeo"
           }
          ],
          "scattergl": [
           {
            "marker": {
             "colorbar": {
              "outlinewidth": 0,
              "ticks": ""
             }
            },
            "type": "scattergl"
           }
          ],
          "scattermapbox": [
           {
            "marker": {
             "colorbar": {
              "outlinewidth": 0,
              "ticks": ""
             }
            },
            "type": "scattermapbox"
           }
          ],
          "scatterpolar": [
           {
            "marker": {
             "colorbar": {
              "outlinewidth": 0,
              "ticks": ""
             }
            },
            "type": "scatterpolar"
           }
          ],
          "scatterpolargl": [
           {
            "marker": {
             "colorbar": {
              "outlinewidth": 0,
              "ticks": ""
             }
            },
            "type": "scatterpolargl"
           }
          ],
          "scatterternary": [
           {
            "marker": {
             "colorbar": {
              "outlinewidth": 0,
              "ticks": ""
             }
            },
            "type": "scatterternary"
           }
          ],
          "surface": [
           {
            "colorbar": {
             "outlinewidth": 0,
             "ticks": ""
            },
            "colorscale": [
             [
              0,
              "#0d0887"
             ],
             [
              0.1111111111111111,
              "#46039f"
             ],
             [
              0.2222222222222222,
              "#7201a8"
             ],
             [
              0.3333333333333333,
              "#9c179e"
             ],
             [
              0.4444444444444444,
              "#bd3786"
             ],
             [
              0.5555555555555556,
              "#d8576b"
             ],
             [
              0.6666666666666666,
              "#ed7953"
             ],
             [
              0.7777777777777778,
              "#fb9f3a"
             ],
             [
              0.8888888888888888,
              "#fdca26"
             ],
             [
              1,
              "#f0f921"
             ]
            ],
            "type": "surface"
           }
          ],
          "table": [
           {
            "cells": {
             "fill": {
              "color": "#EBF0F8"
             },
             "line": {
              "color": "white"
             }
            },
            "header": {
             "fill": {
              "color": "#C8D4E3"
             },
             "line": {
              "color": "white"
             }
            },
            "type": "table"
           }
          ]
         },
         "layout": {
          "annotationdefaults": {
           "arrowcolor": "#2a3f5f",
           "arrowhead": 0,
           "arrowwidth": 1
          },
          "autotypenumbers": "strict",
          "coloraxis": {
           "colorbar": {
            "outlinewidth": 0,
            "ticks": ""
           }
          },
          "colorscale": {
           "diverging": [
            [
             0,
             "#8e0152"
            ],
            [
             0.1,
             "#c51b7d"
            ],
            [
             0.2,
             "#de77ae"
            ],
            [
             0.3,
             "#f1b6da"
            ],
            [
             0.4,
             "#fde0ef"
            ],
            [
             0.5,
             "#f7f7f7"
            ],
            [
             0.6,
             "#e6f5d0"
            ],
            [
             0.7,
             "#b8e186"
            ],
            [
             0.8,
             "#7fbc41"
            ],
            [
             0.9,
             "#4d9221"
            ],
            [
             1,
             "#276419"
            ]
           ],
           "sequential": [
            [
             0,
             "#0d0887"
            ],
            [
             0.1111111111111111,
             "#46039f"
            ],
            [
             0.2222222222222222,
             "#7201a8"
            ],
            [
             0.3333333333333333,
             "#9c179e"
            ],
            [
             0.4444444444444444,
             "#bd3786"
            ],
            [
             0.5555555555555556,
             "#d8576b"
            ],
            [
             0.6666666666666666,
             "#ed7953"
            ],
            [
             0.7777777777777778,
             "#fb9f3a"
            ],
            [
             0.8888888888888888,
             "#fdca26"
            ],
            [
             1,
             "#f0f921"
            ]
           ],
           "sequentialminus": [
            [
             0,
             "#0d0887"
            ],
            [
             0.1111111111111111,
             "#46039f"
            ],
            [
             0.2222222222222222,
             "#7201a8"
            ],
            [
             0.3333333333333333,
             "#9c179e"
            ],
            [
             0.4444444444444444,
             "#bd3786"
            ],
            [
             0.5555555555555556,
             "#d8576b"
            ],
            [
             0.6666666666666666,
             "#ed7953"
            ],
            [
             0.7777777777777778,
             "#fb9f3a"
            ],
            [
             0.8888888888888888,
             "#fdca26"
            ],
            [
             1,
             "#f0f921"
            ]
           ]
          },
          "colorway": [
           "#636efa",
           "#EF553B",
           "#00cc96",
           "#ab63fa",
           "#FFA15A",
           "#19d3f3",
           "#FF6692",
           "#B6E880",
           "#FF97FF",
           "#FECB52"
          ],
          "font": {
           "color": "#2a3f5f"
          },
          "geo": {
           "bgcolor": "white",
           "lakecolor": "white",
           "landcolor": "white",
           "showlakes": true,
           "showland": true,
           "subunitcolor": "#C8D4E3"
          },
          "hoverlabel": {
           "align": "left"
          },
          "hovermode": "closest",
          "mapbox": {
           "style": "light"
          },
          "paper_bgcolor": "white",
          "plot_bgcolor": "white",
          "polar": {
           "angularaxis": {
            "gridcolor": "#EBF0F8",
            "linecolor": "#EBF0F8",
            "ticks": ""
           },
           "bgcolor": "white",
           "radialaxis": {
            "gridcolor": "#EBF0F8",
            "linecolor": "#EBF0F8",
            "ticks": ""
           }
          },
          "scene": {
           "xaxis": {
            "backgroundcolor": "white",
            "gridcolor": "#DFE8F3",
            "gridwidth": 2,
            "linecolor": "#EBF0F8",
            "showbackground": true,
            "ticks": "",
            "zerolinecolor": "#EBF0F8"
           },
           "yaxis": {
            "backgroundcolor": "white",
            "gridcolor": "#DFE8F3",
            "gridwidth": 2,
            "linecolor": "#EBF0F8",
            "showbackground": true,
            "ticks": "",
            "zerolinecolor": "#EBF0F8"
           },
           "zaxis": {
            "backgroundcolor": "white",
            "gridcolor": "#DFE8F3",
            "gridwidth": 2,
            "linecolor": "#EBF0F8",
            "showbackground": true,
            "ticks": "",
            "zerolinecolor": "#EBF0F8"
           }
          },
          "shapedefaults": {
           "line": {
            "color": "#2a3f5f"
           }
          },
          "ternary": {
           "aaxis": {
            "gridcolor": "#DFE8F3",
            "linecolor": "#A2B1C6",
            "ticks": ""
           },
           "baxis": {
            "gridcolor": "#DFE8F3",
            "linecolor": "#A2B1C6",
            "ticks": ""
           },
           "bgcolor": "white",
           "caxis": {
            "gridcolor": "#DFE8F3",
            "linecolor": "#A2B1C6",
            "ticks": ""
           }
          },
          "title": {
           "x": 0.05
          },
          "xaxis": {
           "automargin": true,
           "gridcolor": "#EBF0F8",
           "linecolor": "#EBF0F8",
           "ticks": "",
           "title": {
            "standoff": 15
           },
           "zerolinecolor": "#EBF0F8",
           "zerolinewidth": 2
          },
          "yaxis": {
           "automargin": true,
           "gridcolor": "#EBF0F8",
           "linecolor": "#EBF0F8",
           "ticks": "",
           "title": {
            "standoff": 15
           },
           "zerolinecolor": "#EBF0F8",
           "zerolinewidth": 2
          }
         }
        },
        "xaxis": {
         "dtick": 1,
         "title": {
          "text": "[m]"
         }
        },
        "yaxis": {
         "scaleanchor": "x",
         "scaleratio": 1,
         "title": {
          "text": "[m]"
         }
        }
       },
       "_py2js_animate": {},
       "_py2js_deleteTraces": {},
       "_py2js_moveTraces": {},
       "_py2js_removeLayoutProps": {},
       "_py2js_removeTraceProps": {},
       "_py2js_restyle": {},
       "_view_count": 0
      }
     },
     "7388b43bd78143bcb720cd8e7974cb93": {
      "model_module": "@jupyter-widgets/controls",
      "model_module_version": "1.5.0",
      "model_name": "DescriptionStyleModel",
      "state": {
       "description_width": ""
      }
     },
     "75150a66584340a4bb9e1a64a3aa7788": {
      "model_module": "@jupyter-widgets/controls",
      "model_module_version": "1.5.0",
      "model_name": "FloatTextModel",
      "state": {
       "description": "Outlet loss \\( \\varepsilon_{out} \\) [-]",
       "disabled": true,
       "layout": "IPY_MODEL_8064017eac164b768e2690a092ed043c",
       "step": null,
       "style": "IPY_MODEL_79568c991c074555b053f67bbc33dc53"
      }
     },
     "758e393b7c604dedbbdd4a4fb3b27970": {
      "model_module": "@jupyter-widgets/controls",
      "model_module_version": "1.5.0",
      "model_name": "ButtonModel",
      "state": {
       "description": "Add sensitivity plot",
       "disabled": true,
       "layout": "IPY_MODEL_171c1f3adee840428fdbc033d0a1c466",
       "style": "IPY_MODEL_4774eecd3892479d9fbd110d99eddd70"
      }
     },
     "760b4132e5064df2bf995e9d7d51ea1d": {
      "model_module": "@jupyter-widgets/base",
      "model_module_version": "1.2.0",
      "model_name": "LayoutModel",
      "state": {}
     },
     "76d3109ea97a4391bdea5910a8443f4c": {
      "model_module": "@jupyter-widgets/base",
      "model_module_version": "1.2.0",
      "model_name": "LayoutModel",
      "state": {}
     },
     "79568c991c074555b053f67bbc33dc53": {
      "model_module": "@jupyter-widgets/controls",
      "model_module_version": "1.5.0",
      "model_name": "DescriptionStyleModel",
      "state": {
       "description_width": "200px"
      }
     },
     "7967dfd70c994311b772531da01626bd": {
      "model_module": "@jupyter-widgets/controls",
      "model_module_version": "1.5.0",
      "model_name": "DescriptionStyleModel",
      "state": {
       "description_width": "200px"
      }
     },
     "7a299cd0f65f4e17b20556afa386e586": {
      "model_module": "@jupyter-widgets/controls",
      "model_module_version": "1.5.0",
      "model_name": "DescriptionStyleModel",
      "state": {
       "description_width": ""
      }
     },
     "7bf297c865c24272bb8b2bbcdb6babaf": {
      "model_module": "@jupyter-widgets/controls",
      "model_module_version": "1.5.0",
      "model_name": "BoundedFloatTextModel",
      "state": {
       "description": "Inlet loss  \\(\\varepsilon_{in} \\) [-]:",
       "layout": "IPY_MODEL_6c10a89e7da043c7baf55529ba4bdcef",
       "max": 1,
       "step": 0.01,
       "style": "IPY_MODEL_2a2cb56a0457451081252dcde13a9956",
       "value": 0.6
      }
     },
     "7cfba13ff3c041c2974fc388fcad73fc": {
      "model_module": "@jupyter-widgets/controls",
      "model_module_version": "1.5.0",
      "model_name": "DescriptionStyleModel",
      "state": {
       "description_width": ""
      }
     },
     "7e1ed2ebb535499b81aeadb591bd1227": {
      "model_module": "@jupyter-widgets/controls",
      "model_module_version": "1.5.0",
      "model_name": "VBoxModel",
      "state": {
       "children": [
        "IPY_MODEL_6f0256a6a0c94a56a7a32a59ceebd92f",
        "IPY_MODEL_7bf297c865c24272bb8b2bbcdb6babaf",
        "IPY_MODEL_d194fc85d3734265bdebb5b22f6d5f8d",
        "IPY_MODEL_c204271783324d21b1677418f584d84f",
        "IPY_MODEL_1c3ea371f5d2470887d91cebf45d28c5",
        "IPY_MODEL_ac9943963498489cbfe5de7c6941d411",
        "IPY_MODEL_b0355141eae14d829b800ff4857c0b49",
        "IPY_MODEL_c10d7bd4317146c395de21edfcda638f",
        "IPY_MODEL_90be0feb281e4e03a0fc7a40fb3fe704",
        "IPY_MODEL_7034eee26dae43dc926d6392a0193fe3"
       ],
       "layout": "IPY_MODEL_2966481a9b1d48639a72162eecc51ea0"
      }
     },
     "8064017eac164b768e2690a092ed043c": {
      "model_module": "@jupyter-widgets/base",
      "model_module_version": "1.2.0",
      "model_name": "LayoutModel",
      "state": {}
     },
     "80ecd56a2ba84e78aff0fe7809617ce3": {
      "model_module": "@jupyter-widgets/controls",
      "model_module_version": "1.5.0",
      "model_name": "SliderStyleModel",
      "state": {
       "description_width": "80px"
      }
     },
     "82a46ee1366e44ad8c4701afd9c41fb3": {
      "model_module": "@jupyter-widgets/controls",
      "model_module_version": "1.5.0",
      "model_name": "DescriptionStyleModel",
      "state": {
       "description_width": ""
      }
     },
     "857fdaa4ff9d4930b0153e8038566092": {
      "model_module": "@jupyter-widgets/base",
      "model_module_version": "1.2.0",
      "model_name": "LayoutModel",
      "state": {}
     },
     "86cfe483ddf2454f9c7f8f1b3e33cc00": {
      "model_module": "@jupyter-widgets/controls",
      "model_module_version": "1.5.0",
      "model_name": "HTMLModel",
      "state": {
       "layout": "IPY_MODEL_cc339fc8687a4c57ace6d9b434ffe0c1",
       "style": "IPY_MODEL_a7d81c9645c44272a9aad7f07b49434f",
       "value": "<p style='font-family:verdana; font-size:24px;padding:20px'>Results</p>"
      }
     },
     "899ce63c288e494482d9498c2a6dfced": {
      "buffers": [
       {
        "data": "AAAAAAAAAABbv1Kg1q+UP1u/UqDWr6Q/CB988MEHrz9bv1Kg1q+0PzJvZ0jM27k/CB988MEHvz9wZ0jM2xnCP1u/UqDWr8Q/RhdddNFFxz8yb2dIzNvJPx3HcRzHccw/CB988MEHzz96O0Ni3s7QP3BnSMzbGdI/ZZNNNtlk0z9bv1Kg1q/UP1HrVwrU+tU/RhdddNFF1z88Q2LezpDYPzJvZ0jM29k/J5tssskm2z8dx3Ecx3HcPxPzdobEvN0/CB988MEH3z9/pUCtXyngP3o7Q2LezuA/ddFFF1104T9wZ0jM2xniP2r9SoFav+I/ZZNNNtlk4z9gKVDrVwrkP1u/UqDWr+Q/VlVVVVVV5T9R61cK1PrlP0yBWr9SoOY/RhdddNFF5z9BrV8pUOvnPzxDYt7OkOg/N9lkk0026T8yb2dIzNvpPy0Fav1Kgeo/J5tssskm6z8iMW9nSMzrPx3HcRzHcew/GF100UUX7T8T83aGxLztPw6JeTtDYu4/CB988MEH7z8DtX6lQK3vP3+lQK1fKfA/ffDBBx988D96O0Ni3s7wP3eGxLydIfE/ddFFF1108T9yHMdxHMfxP3BnSMzbGfI/bbLJJpts8j9q/UqBWr/yP2hIzNsZEvM/ZZNNNtlk8z9j3s6QmLfzP2ApUOtXCvQ/XnTRRRdd9D9bv1Kg1q/0P1gK1PqVAvU/VlVVVVVV9T9ToNavFKj1P1HrVwrU+vU/TjbZZJNN9j9MgVq/UqD2P0nM2xkS8/Y/RhdddNFF9z9EYt7OkJj3P0GtXylQ6/c/P/jggw8++D88Q2LezpD4PzmO4ziO4/g/N9lkk002+T80JObtDIn5PzJvZ0jM2/k/L7rooosu+j8tBWr9SoH6PypQ61cK1Po/J5tssskm+z8l5u0MiXn7PyIxb2dIzPs/IHzwwQcf/D8dx3Ecx3H8PxsS83aGxPw/GF100UUX/T8VqPUrBWr9PxPzdobEvP0/ED744IMP/j8OiXk7Q2L+PwvU+pUCtf4/CB988MEH/z8Gav1KgVr/PwO1fqVArf8/AAAAAAAAAEA=",
        "encoding": "base64",
        "path": [
         "_data",
         0,
         "x",
         "value"
        ]
       }
      ],
      "model_module": "jupyterlab-plotly",
      "model_module_version": "^5.4.0",
      "model_name": "FigureModel",
      "state": {
       "_config": {
        "plotlyServerURL": "https://plot.ly"
       },
       "_data": [
        {
         "line": {
          "color": "black"
         },
         "type": "scatter",
         "uid": "1b85d967-28cd-4667-9784-015c1f5ac4f6",
         "x": {
          "dtype": "float64",
          "shape": [
           100
          ],
          "value": {}
         },
         "y": [
          0,
          5.326901166678158e-05,
          0.00021307604666712633,
          0.00047942110500103424,
          0.0008523041866685053,
          0.00133172529166954,
          0.001917684420004137,
          0.0026101815716722985,
          0.0034092167466740213,
          0.004314789945009308,
          0.00532690116667816,
          0.006445550411680572,
          0.007670737680016548,
          0.009002462971686088,
          0.010440726286689194,
          0.011985527625025857,
          0.013636866986696085,
          0.01539474437169988,
          0.017259159780037232,
          0.019230113211708155,
          0.02130760466671264,
          0.023491634145050677,
          0.025782201646722288,
          0.02817930717172746,
          0.03068295072006619,
          0.0332931322917385,
          0.036009851886744354,
          0.038833109505083785,
          0.041762905146756776,
          0.04479923881176331,
          0.04794211050010343,
          0.0511915202117771,
          0.05454746794678434,
          0.058009953705125156,
          0.06157897748679952,
          0.06525453929180745,
          0.06903663912014893,
          0.072925276971824,
          0.07692045284683262,
          0.08102216674517479,
          0.08523041866685056,
          0.08954520861185987,
          0.09396653658020271,
          0.09849440257187916,
          0.10312880658688915,
          0.1078697486252327,
          0.11271722868690984,
          0.11767124677192055,
          0.12273180288026476,
          0.1278988970119426,
          0.133172529166954,
          0.13855269934529896,
          0.14403940754697742,
          0.14963265377198945,
          0.15533243802033514,
          0.1611387602920143,
          0.1670516205870271,
          0.17307101890537338,
          0.17919695524705323,
          0.18542942961206674,
          0.1917684420004137,
          0.1982139924120943,
          0.2047660808471084,
          0.21142470730545618,
          0.21818987178713736,
          0.22506157429215218,
          0.23203981482050062,
          0.23912459337218253,
          0.24631590994719807,
          0.2536137645455471,
          0.2610181571672298,
          0.26852908781224594,
          0.2761465564805957,
          0.2838705631722791,
          0.291701107887296,
          0.2996381906256465,
          0.3076818113873305,
          0.315831970172348,
          0.32408866698069916,
          0.3324519018123838,
          0.34092167466740225,
          0.349497985545754,
          0.3581808344474395,
          0.3669702213724583,
          0.37586614632081083,
          0.38486860929249694,
          0.39397761028751666,
          0.40319314930586986,
          0.4125152263475566,
          0.421943841412577,
          0.4314789945009308,
          0.4411206856126183,
          0.45086891474763935,
          0.4607236819059939,
          0.4706849870876822,
          0.4807528302927038,
          0.49092721152105906,
          0.5012081307727481,
          0.5115955880477704,
          0.5220895833461262
         ]
        }
       ],
       "_js2py_pointsCallback": {},
       "_js2py_restyle": {},
       "_js2py_update": {},
       "_last_layout_edit_id": 7,
       "_last_trace_edit_id": 5,
       "_layout": {
        "autosize": true,
        "template": {
         "data": {
          "bar": [
           {
            "error_x": {
             "color": "#2a3f5f"
            },
            "error_y": {
             "color": "#2a3f5f"
            },
            "marker": {
             "line": {
              "color": "white",
              "width": 0.5
             },
             "pattern": {
              "fillmode": "overlay",
              "size": 10,
              "solidity": 0.2
             }
            },
            "type": "bar"
           }
          ],
          "barpolar": [
           {
            "marker": {
             "line": {
              "color": "white",
              "width": 0.5
             },
             "pattern": {
              "fillmode": "overlay",
              "size": 10,
              "solidity": 0.2
             }
            },
            "type": "barpolar"
           }
          ],
          "carpet": [
           {
            "aaxis": {
             "endlinecolor": "#2a3f5f",
             "gridcolor": "#C8D4E3",
             "linecolor": "#C8D4E3",
             "minorgridcolor": "#C8D4E3",
             "startlinecolor": "#2a3f5f"
            },
            "baxis": {
             "endlinecolor": "#2a3f5f",
             "gridcolor": "#C8D4E3",
             "linecolor": "#C8D4E3",
             "minorgridcolor": "#C8D4E3",
             "startlinecolor": "#2a3f5f"
            },
            "type": "carpet"
           }
          ],
          "choropleth": [
           {
            "colorbar": {
             "outlinewidth": 0,
             "ticks": ""
            },
            "type": "choropleth"
           }
          ],
          "contour": [
           {
            "colorbar": {
             "outlinewidth": 0,
             "ticks": ""
            },
            "colorscale": [
             [
              0,
              "#0d0887"
             ],
             [
              0.1111111111111111,
              "#46039f"
             ],
             [
              0.2222222222222222,
              "#7201a8"
             ],
             [
              0.3333333333333333,
              "#9c179e"
             ],
             [
              0.4444444444444444,
              "#bd3786"
             ],
             [
              0.5555555555555556,
              "#d8576b"
             ],
             [
              0.6666666666666666,
              "#ed7953"
             ],
             [
              0.7777777777777778,
              "#fb9f3a"
             ],
             [
              0.8888888888888888,
              "#fdca26"
             ],
             [
              1,
              "#f0f921"
             ]
            ],
            "type": "contour"
           }
          ],
          "contourcarpet": [
           {
            "colorbar": {
             "outlinewidth": 0,
             "ticks": ""
            },
            "type": "contourcarpet"
           }
          ],
          "heatmap": [
           {
            "colorbar": {
             "outlinewidth": 0,
             "ticks": ""
            },
            "colorscale": [
             [
              0,
              "#0d0887"
             ],
             [
              0.1111111111111111,
              "#46039f"
             ],
             [
              0.2222222222222222,
              "#7201a8"
             ],
             [
              0.3333333333333333,
              "#9c179e"
             ],
             [
              0.4444444444444444,
              "#bd3786"
             ],
             [
              0.5555555555555556,
              "#d8576b"
             ],
             [
              0.6666666666666666,
              "#ed7953"
             ],
             [
              0.7777777777777778,
              "#fb9f3a"
             ],
             [
              0.8888888888888888,
              "#fdca26"
             ],
             [
              1,
              "#f0f921"
             ]
            ],
            "type": "heatmap"
           }
          ],
          "heatmapgl": [
           {
            "colorbar": {
             "outlinewidth": 0,
             "ticks": ""
            },
            "colorscale": [
             [
              0,
              "#0d0887"
             ],
             [
              0.1111111111111111,
              "#46039f"
             ],
             [
              0.2222222222222222,
              "#7201a8"
             ],
             [
              0.3333333333333333,
              "#9c179e"
             ],
             [
              0.4444444444444444,
              "#bd3786"
             ],
             [
              0.5555555555555556,
              "#d8576b"
             ],
             [
              0.6666666666666666,
              "#ed7953"
             ],
             [
              0.7777777777777778,
              "#fb9f3a"
             ],
             [
              0.8888888888888888,
              "#fdca26"
             ],
             [
              1,
              "#f0f921"
             ]
            ],
            "type": "heatmapgl"
           }
          ],
          "histogram": [
           {
            "marker": {
             "pattern": {
              "fillmode": "overlay",
              "size": 10,
              "solidity": 0.2
             }
            },
            "type": "histogram"
           }
          ],
          "histogram2d": [
           {
            "colorbar": {
             "outlinewidth": 0,
             "ticks": ""
            },
            "colorscale": [
             [
              0,
              "#0d0887"
             ],
             [
              0.1111111111111111,
              "#46039f"
             ],
             [
              0.2222222222222222,
              "#7201a8"
             ],
             [
              0.3333333333333333,
              "#9c179e"
             ],
             [
              0.4444444444444444,
              "#bd3786"
             ],
             [
              0.5555555555555556,
              "#d8576b"
             ],
             [
              0.6666666666666666,
              "#ed7953"
             ],
             [
              0.7777777777777778,
              "#fb9f3a"
             ],
             [
              0.8888888888888888,
              "#fdca26"
             ],
             [
              1,
              "#f0f921"
             ]
            ],
            "type": "histogram2d"
           }
          ],
          "histogram2dcontour": [
           {
            "colorbar": {
             "outlinewidth": 0,
             "ticks": ""
            },
            "colorscale": [
             [
              0,
              "#0d0887"
             ],
             [
              0.1111111111111111,
              "#46039f"
             ],
             [
              0.2222222222222222,
              "#7201a8"
             ],
             [
              0.3333333333333333,
              "#9c179e"
             ],
             [
              0.4444444444444444,
              "#bd3786"
             ],
             [
              0.5555555555555556,
              "#d8576b"
             ],
             [
              0.6666666666666666,
              "#ed7953"
             ],
             [
              0.7777777777777778,
              "#fb9f3a"
             ],
             [
              0.8888888888888888,
              "#fdca26"
             ],
             [
              1,
              "#f0f921"
             ]
            ],
            "type": "histogram2dcontour"
           }
          ],
          "mesh3d": [
           {
            "colorbar": {
             "outlinewidth": 0,
             "ticks": ""
            },
            "type": "mesh3d"
           }
          ],
          "parcoords": [
           {
            "line": {
             "colorbar": {
              "outlinewidth": 0,
              "ticks": ""
             }
            },
            "type": "parcoords"
           }
          ],
          "pie": [
           {
            "automargin": true,
            "type": "pie"
           }
          ],
          "scatter": [
           {
            "marker": {
             "colorbar": {
              "outlinewidth": 0,
              "ticks": ""
             }
            },
            "type": "scatter"
           }
          ],
          "scatter3d": [
           {
            "line": {
             "colorbar": {
              "outlinewidth": 0,
              "ticks": ""
             }
            },
            "marker": {
             "colorbar": {
              "outlinewidth": 0,
              "ticks": ""
             }
            },
            "type": "scatter3d"
           }
          ],
          "scattercarpet": [
           {
            "marker": {
             "colorbar": {
              "outlinewidth": 0,
              "ticks": ""
             }
            },
            "type": "scattercarpet"
           }
          ],
          "scattergeo": [
           {
            "marker": {
             "colorbar": {
              "outlinewidth": 0,
              "ticks": ""
             }
            },
            "type": "scattergeo"
           }
          ],
          "scattergl": [
           {
            "marker": {
             "colorbar": {
              "outlinewidth": 0,
              "ticks": ""
             }
            },
            "type": "scattergl"
           }
          ],
          "scattermapbox": [
           {
            "marker": {
             "colorbar": {
              "outlinewidth": 0,
              "ticks": ""
             }
            },
            "type": "scattermapbox"
           }
          ],
          "scatterpolar": [
           {
            "marker": {
             "colorbar": {
              "outlinewidth": 0,
              "ticks": ""
             }
            },
            "type": "scatterpolar"
           }
          ],
          "scatterpolargl": [
           {
            "marker": {
             "colorbar": {
              "outlinewidth": 0,
              "ticks": ""
             }
            },
            "type": "scatterpolargl"
           }
          ],
          "scatterternary": [
           {
            "marker": {
             "colorbar": {
              "outlinewidth": 0,
              "ticks": ""
             }
            },
            "type": "scatterternary"
           }
          ],
          "surface": [
           {
            "colorbar": {
             "outlinewidth": 0,
             "ticks": ""
            },
            "colorscale": [
             [
              0,
              "#0d0887"
             ],
             [
              0.1111111111111111,
              "#46039f"
             ],
             [
              0.2222222222222222,
              "#7201a8"
             ],
             [
              0.3333333333333333,
              "#9c179e"
             ],
             [
              0.4444444444444444,
              "#bd3786"
             ],
             [
              0.5555555555555556,
              "#d8576b"
             ],
             [
              0.6666666666666666,
              "#ed7953"
             ],
             [
              0.7777777777777778,
              "#fb9f3a"
             ],
             [
              0.8888888888888888,
              "#fdca26"
             ],
             [
              1,
              "#f0f921"
             ]
            ],
            "type": "surface"
           }
          ],
          "table": [
           {
            "cells": {
             "fill": {
              "color": "#EBF0F8"
             },
             "line": {
              "color": "white"
             }
            },
            "header": {
             "fill": {
              "color": "#C8D4E3"
             },
             "line": {
              "color": "white"
             }
            },
            "type": "table"
           }
          ]
         },
         "layout": {
          "annotationdefaults": {
           "arrowcolor": "#2a3f5f",
           "arrowhead": 0,
           "arrowwidth": 1
          },
          "autotypenumbers": "strict",
          "coloraxis": {
           "colorbar": {
            "outlinewidth": 0,
            "ticks": ""
           }
          },
          "colorscale": {
           "diverging": [
            [
             0,
             "#8e0152"
            ],
            [
             0.1,
             "#c51b7d"
            ],
            [
             0.2,
             "#de77ae"
            ],
            [
             0.3,
             "#f1b6da"
            ],
            [
             0.4,
             "#fde0ef"
            ],
            [
             0.5,
             "#f7f7f7"
            ],
            [
             0.6,
             "#e6f5d0"
            ],
            [
             0.7,
             "#b8e186"
            ],
            [
             0.8,
             "#7fbc41"
            ],
            [
             0.9,
             "#4d9221"
            ],
            [
             1,
             "#276419"
            ]
           ],
           "sequential": [
            [
             0,
             "#0d0887"
            ],
            [
             0.1111111111111111,
             "#46039f"
            ],
            [
             0.2222222222222222,
             "#7201a8"
            ],
            [
             0.3333333333333333,
             "#9c179e"
            ],
            [
             0.4444444444444444,
             "#bd3786"
            ],
            [
             0.5555555555555556,
             "#d8576b"
            ],
            [
             0.6666666666666666,
             "#ed7953"
            ],
            [
             0.7777777777777778,
             "#fb9f3a"
            ],
            [
             0.8888888888888888,
             "#fdca26"
            ],
            [
             1,
             "#f0f921"
            ]
           ],
           "sequentialminus": [
            [
             0,
             "#0d0887"
            ],
            [
             0.1111111111111111,
             "#46039f"
            ],
            [
             0.2222222222222222,
             "#7201a8"
            ],
            [
             0.3333333333333333,
             "#9c179e"
            ],
            [
             0.4444444444444444,
             "#bd3786"
            ],
            [
             0.5555555555555556,
             "#d8576b"
            ],
            [
             0.6666666666666666,
             "#ed7953"
            ],
            [
             0.7777777777777778,
             "#fb9f3a"
            ],
            [
             0.8888888888888888,
             "#fdca26"
            ],
            [
             1,
             "#f0f921"
            ]
           ]
          },
          "colorway": [
           "#636efa",
           "#EF553B",
           "#00cc96",
           "#ab63fa",
           "#FFA15A",
           "#19d3f3",
           "#FF6692",
           "#B6E880",
           "#FF97FF",
           "#FECB52"
          ],
          "font": {
           "color": "#2a3f5f"
          },
          "geo": {
           "bgcolor": "white",
           "lakecolor": "white",
           "landcolor": "white",
           "showlakes": true,
           "showland": true,
           "subunitcolor": "#C8D4E3"
          },
          "hoverlabel": {
           "align": "left"
          },
          "hovermode": "closest",
          "mapbox": {
           "style": "light"
          },
          "paper_bgcolor": "white",
          "plot_bgcolor": "white",
          "polar": {
           "angularaxis": {
            "gridcolor": "#EBF0F8",
            "linecolor": "#EBF0F8",
            "ticks": ""
           },
           "bgcolor": "white",
           "radialaxis": {
            "gridcolor": "#EBF0F8",
            "linecolor": "#EBF0F8",
            "ticks": ""
           }
          },
          "scene": {
           "xaxis": {
            "backgroundcolor": "white",
            "gridcolor": "#DFE8F3",
            "gridwidth": 2,
            "linecolor": "#EBF0F8",
            "showbackground": true,
            "ticks": "",
            "zerolinecolor": "#EBF0F8"
           },
           "yaxis": {
            "backgroundcolor": "white",
            "gridcolor": "#DFE8F3",
            "gridwidth": 2,
            "linecolor": "#EBF0F8",
            "showbackground": true,
            "ticks": "",
            "zerolinecolor": "#EBF0F8"
           },
           "zaxis": {
            "backgroundcolor": "white",
            "gridcolor": "#DFE8F3",
            "gridwidth": 2,
            "linecolor": "#EBF0F8",
            "showbackground": true,
            "ticks": "",
            "zerolinecolor": "#EBF0F8"
           }
          },
          "shapedefaults": {
           "line": {
            "color": "#2a3f5f"
           }
          },
          "ternary": {
           "aaxis": {
            "gridcolor": "#DFE8F3",
            "linecolor": "#A2B1C6",
            "ticks": ""
           },
           "baxis": {
            "gridcolor": "#DFE8F3",
            "linecolor": "#A2B1C6",
            "ticks": ""
           },
           "bgcolor": "white",
           "caxis": {
            "gridcolor": "#DFE8F3",
            "linecolor": "#A2B1C6",
            "ticks": ""
           }
          },
          "title": {
           "x": 0.05
          },
          "xaxis": {
           "automargin": true,
           "gridcolor": "#EBF0F8",
           "linecolor": "#EBF0F8",
           "ticks": "",
           "title": {
            "standoff": 15
           },
           "zerolinecolor": "#EBF0F8",
           "zerolinewidth": 2
          },
          "yaxis": {
           "automargin": true,
           "gridcolor": "#EBF0F8",
           "linecolor": "#EBF0F8",
           "ticks": "",
           "title": {
            "standoff": 15
           },
           "zerolinecolor": "#EBF0F8",
           "zerolinewidth": 2
          }
         }
        },
        "xaxis": {
         "title": {
          "text": "Discharge [m3/s]"
         }
        },
        "yaxis": {
         "title": {
          "text": "Head Loss [m]"
         }
        }
       },
       "_py2js_animate": {},
       "_py2js_deleteTraces": {},
       "_py2js_moveTraces": {},
       "_py2js_removeLayoutProps": {},
       "_py2js_removeTraceProps": {},
       "_view_count": 0
      }
     },
     "8aa9863ee0ca4993913f2efb70514640": {
      "model_module": "@jupyter-widgets/controls",
      "model_module_version": "1.5.0",
      "model_name": "VBoxModel",
      "state": {
       "children": [
        "IPY_MODEL_5383b5421d7340839b6f45d3771d2298",
        "IPY_MODEL_f691c19b42fb4eb4b1229c16d549147b",
        "IPY_MODEL_64c834ac9aa84439aef4cfbb63410e3d",
        "IPY_MODEL_2b4d882348b447239c269a89da42961c",
        "IPY_MODEL_e2c3a5cf54bf432f91cf6fbc4ae885f4"
       ],
       "layout": "IPY_MODEL_ebe77efca66e4b299fc895dec4c9ed6e"
      }
     },
     "9071b12807194fceb1f4ed91ada66b76": {
      "model_module": "@jupyter-widgets/controls",
      "model_module_version": "1.5.0",
      "model_name": "DescriptionStyleModel",
      "state": {
       "description_width": "200px"
      }
     },
     "90be0feb281e4e03a0fc7a40fb3fe704": {
      "model_module": "@jupyter-widgets/controls",
      "model_module_version": "1.5.0",
      "model_name": "HTMLModel",
      "state": {
       "layout": "IPY_MODEL_3b625cb0ea8c4dfc844660280aaf7f41",
       "style": "IPY_MODEL_6e7571c5642d45cd9d60c5047df4384d",
       "value": "<p style='font-family:verdana; font-style: italic;'>Discharge coeffient</p>"
      }
     },
     "9112df4845ec46b38ec08d074b03a238": {
      "model_module": "@jupyter-widgets/base",
      "model_module_version": "1.2.0",
      "model_name": "LayoutModel",
      "state": {}
     },
     "927634a5297f42338e795441fa0da6cb": {
      "model_module": "@jupyter-widgets/controls",
      "model_module_version": "1.5.0",
      "model_name": "DescriptionStyleModel",
      "state": {
       "description_width": "200px"
      }
     },
     "940633daa9b844ac8dccbdf441008207": {
      "model_module": "@jupyter-widgets/base",
      "model_module_version": "1.2.0",
      "model_name": "LayoutModel",
      "state": {}
     },
     "94c4d9fe7fe94f6281f55a5831fc3529": {
      "model_module": "@jupyter-widgets/controls",
      "model_module_version": "1.5.0",
      "model_name": "ToggleButtonsStyleModel",
      "state": {
       "button_width": "",
       "description_width": "200px"
      }
     },
     "96087a0b798c4fb8a6b5d78fe53ea519": {
      "model_module": "@jupyter-widgets/controls",
      "model_module_version": "1.5.0",
      "model_name": "DescriptionStyleModel",
      "state": {
       "description_width": ""
      }
     },
     "96e395733db147e69140729b1287e6e1": {
      "model_module": "@jupyter-widgets/base",
      "model_module_version": "1.2.0",
      "model_name": "LayoutModel",
      "state": {}
     },
     "9971f78b652141a4b4334397e1872f49": {
      "model_module": "@jupyter-widgets/controls",
      "model_module_version": "1.5.0",
      "model_name": "VBoxModel",
      "state": {
       "children": [
        "IPY_MODEL_cc14d11690d84d6bbe3a0919d4ff47ae",
        "IPY_MODEL_b8e8d0b810344fa5889c558d4397552d",
        "IPY_MODEL_2027c5e3e7104df7b51ac29c172828a1",
        "IPY_MODEL_20f2d602337f48e3a99c75656e7e53c4",
        "IPY_MODEL_c212e9ce15854092a378591ff851997e"
       ],
       "layout": "IPY_MODEL_760b4132e5064df2bf995e9d7d51ea1d"
      }
     },
     "9bc6bdb9ce0e437799b5615c4e7e929e": {
      "model_module": "@jupyter-widgets/base",
      "model_module_version": "1.2.0",
      "model_name": "LayoutModel",
      "state": {}
     },
     "a16e6498b46246309941346bb5f3e1ed": {
      "model_module": "@jupyter-widgets/controls",
      "model_module_version": "1.5.0",
      "model_name": "ButtonStyleModel",
      "state": {}
     },
     "a4d0f8c8e8e3447b983b194f38c81bfd": {
      "model_module": "@jupyter-widgets/controls",
      "model_module_version": "1.5.0",
      "model_name": "DescriptionStyleModel",
      "state": {
       "description_width": "200px"
      }
     },
     "a5a122d2183345d694fd16b57c9d80ae": {
      "model_module": "@jupyter-widgets/base",
      "model_module_version": "1.2.0",
      "model_name": "LayoutModel",
      "state": {}
     },
     "a78ca0b3c3d74147a8dc0c5905a676bf": {
      "model_module": "@jupyter-widgets/base",
      "model_module_version": "1.2.0",
      "model_name": "LayoutModel",
      "state": {}
     },
     "a7d81c9645c44272a9aad7f07b49434f": {
      "model_module": "@jupyter-widgets/controls",
      "model_module_version": "1.5.0",
      "model_name": "DescriptionStyleModel",
      "state": {
       "description_width": ""
      }
     },
     "a86912f691e548d9a437dfc22246a468": {
      "model_module": "@jupyter-widgets/controls",
      "model_module_version": "1.5.0",
      "model_name": "FloatRangeSliderModel",
      "state": {
       "_model_name": "FloatRangeSliderModel",
       "_view_name": "FloatRangeSliderView",
       "continuous_update": false,
       "description": "Range x-axis:",
       "layout": "IPY_MODEL_68bf38117df14e0db462349b27d40f80",
       "max": 10,
       "readout_format": ".3f",
       "step": 0.01,
       "style": "IPY_MODEL_80ecd56a2ba84e78aff0fe7809617ce3",
       "value": [
        0,
        2
       ]
      }
     },
     "a89355283b3748b4967d13e029084da0": {
      "model_module": "@jupyter-widgets/controls",
      "model_module_version": "1.5.0",
      "model_name": "HTMLModel",
      "state": {
       "layout": "IPY_MODEL_3d72a4b1e4094d7d91a5ccd3addfd109",
       "style": "IPY_MODEL_324f8ed284e24597b4de2f0b2c96edbd",
       "value": "<p style='font-family:verdana; font-size:14px;'>Given the head loss of 0.02m, the resulting discharge is 0.0 m3/s</p>"
      }
     },
     "a9b578ca2bce465080a787d81eef06d0": {
      "model_module": "@jupyter-widgets/controls",
      "model_module_version": "1.5.0",
      "model_name": "HTMLModel",
      "state": {
       "layout": "IPY_MODEL_ebf3fb48a39d4cc2aee6ef0635f3db4d",
       "style": "IPY_MODEL_eb31587fe2cd4ca7b966a1796f3844cb",
       "value": "<p style='font-family:verdana; font-size:24px;padding:20px'>Hydraulic parameters</p>"
      }
     },
     "aae59005cacc4508ae89bc1df9c542c2": {
      "model_module": "@jupyter-widgets/controls",
      "model_module_version": "1.5.0",
      "model_name": "DescriptionStyleModel",
      "state": {
       "description_width": "200px"
      }
     },
     "ab02190c3f9b49a6906b0295420377fa": {
      "model_module": "@jupyter-widgets/controls",
      "model_module_version": "1.5.0",
      "model_name": "ToggleButtonsModel",
      "state": {
       "_options_labels": [
        "dz",
        "q"
       ],
       "button_style": "",
       "description": "Parameter to calculate:",
       "icons": [],
       "index": 0,
       "layout": "IPY_MODEL_16dbfea1ddc24072bf40156b23f8a8b1",
       "style": "IPY_MODEL_52b5235e2ca4470e9d714eb132b3a6f1",
       "tooltips": [
        "Head loss",
        "Discharge"
       ]
      }
     },
     "ac49a2c1624c402fa78a0eee5aed0cd3": {
      "model_module": "@jupyter-widgets/controls",
      "model_module_version": "1.5.0",
      "model_name": "ToggleButtonsModel",
      "state": {
       "_options_labels": [
        "q",
        "dz",
        "k_manning",
        "diameter"
       ],
       "button_style": "",
       "description": "X-axis value:",
       "icons": [],
       "index": 0,
       "layout": "IPY_MODEL_621bcdf26c6f4787b8a91d94ee872bc0",
       "style": "IPY_MODEL_e6d06c40f237420d9f50b1796a6e3b02",
       "tooltips": [
        "Discharge",
        "Water level difference over culvert"
       ]
      }
     },
     "ac4c43e079a845988762651a47141866": {
      "model_module": "@jupyter-widgets/base",
      "model_module_version": "1.2.0",
      "model_name": "LayoutModel",
      "state": {}
     },
     "ac9943963498489cbfe5de7c6941d411": {
      "model_module": "@jupyter-widgets/controls",
      "model_module_version": "1.5.0",
      "model_name": "HBoxModel",
      "state": {
       "children": [
        "IPY_MODEL_2cf1695ad19541eab5f3d26c74af45c7",
        "IPY_MODEL_75150a66584340a4bb9e1a64a3aa7788"
       ],
       "layout": "IPY_MODEL_ce65f9fa3a904babb890443a01cd89b3"
      }
     },
     "adab29ec400e4451993d3f5076769c44": {
      "model_module": "@jupyter-widgets/controls",
      "model_module_version": "1.5.0",
      "model_name": "FloatTextModel",
      "state": {
       "description": "Friction loss \\( \\varepsilon_{friction} \\) [-]",
       "disabled": true,
       "layout": "IPY_MODEL_11d425352fe5477d9d2a698905ebc8e1",
       "step": null,
       "style": "IPY_MODEL_2f5af2eac80449c1a0a73fbdb41a878d"
      }
     },
     "ae319ca4140f42e2b3dc3b83540e21e5": {
      "model_module": "@jupyter-widgets/controls",
      "model_module_version": "1.5.0",
      "model_name": "DescriptionStyleModel",
      "state": {
       "description_width": "200px"
      }
     },
     "b0355141eae14d829b800ff4857c0b49": {
      "model_module": "@jupyter-widgets/controls",
      "model_module_version": "1.5.0",
      "model_name": "HTMLModel",
      "state": {
       "layout": "IPY_MODEL_f3076e7253664b239310caa646ec9e29",
       "style": "IPY_MODEL_96087a0b798c4fb8a6b5d78fe53ea519",
       "value": "<p style='font-family:verdana; font-style: italic;'>Additional loss</p>"
      }
     },
     "b080b6d9389c4faab4a3c0492f0968f5": {
      "model_module": "@jupyter-widgets/base",
      "model_module_version": "1.2.0",
      "model_name": "LayoutModel",
      "state": {}
     },
     "b1d6b25c288c495c93a28694a1924798": {
      "model_module": "@jupyter-widgets/controls",
      "model_module_version": "1.5.0",
      "model_name": "HTMLModel",
      "state": {
       "layout": "IPY_MODEL_12857b3206064e41b70b10e0870d06fb",
       "style": "IPY_MODEL_7cfba13ff3c041c2974fc388fcad73fc",
       "value": "<p style='font-family:verdana; font-size:12px;'>(dz = headloss; q = discharge)</p>"
      }
     },
     "b5c81c8e921c493293fdb6104314fc79": {
      "model_module": "@jupyter-widgets/base",
      "model_module_version": "1.2.0",
      "model_name": "LayoutModel",
      "state": {}
     },
     "b8e8d0b810344fa5889c558d4397552d": {
      "model_module": "@jupyter-widgets/controls",
      "model_module_version": "1.5.0",
      "model_name": "HBoxModel",
      "state": {
       "children": [
        "IPY_MODEL_09c98be72a504c0c9c25033aacc35d81",
        "IPY_MODEL_71cdca1384184abe98587b5167da3993"
       ],
       "layout": "IPY_MODEL_6fd8e2bba3a8487d8b72e6b0a251cd16"
      }
     },
     "b9940d3c78cf4a92b70ee988991b4c7c": {
      "model_module": "@jupyter-widgets/controls",
      "model_module_version": "1.5.0",
      "model_name": "DescriptionStyleModel",
      "state": {
       "description_width": ""
      }
     },
     "bcd6c653c24f459db9d2852cdac05cfb": {
      "model_module": "@jupyter-widgets/controls",
      "model_module_version": "1.5.0",
      "model_name": "BoundedFloatTextModel",
      "state": {
       "description": "Water level [m+ref]:",
       "layout": "IPY_MODEL_6fa2f5249e6b4eb6bf17874f69fb8acc",
       "max": 10000,
       "min": -1000,
       "step": 0.01,
       "style": "IPY_MODEL_09e2d725f5f944c0a804f29c4aa20be1",
       "value": 0.75
      }
     },
     "bda85088324440acb2038f32a845a027": {
      "model_module": "@jupyter-widgets/base",
      "model_module_version": "1.2.0",
      "model_name": "LayoutModel",
      "state": {}
     },
     "be90cfcb49044f9b80e5c2e24bbdc3e2": {
      "model_module": "@jupyter-widgets/controls",
      "model_module_version": "1.5.0",
      "model_name": "VBoxModel",
      "state": {
       "children": [
        "IPY_MODEL_6b8b8285002c4951bd8ae0fa3a4fff12",
        "IPY_MODEL_ecd8c92f75f74ebc8363b3f5f9e14f36",
        "IPY_MODEL_c5f40229011a4141a9858f618b9eca85",
        "IPY_MODEL_f3ab6c6fd2f94ab7b45415c6c00bc7b6"
       ],
       "layout": "IPY_MODEL_bda85088324440acb2038f32a845a027"
      }
     },
     "bfdcfa7a22424d5a8915ae7e47192122": {
      "model_module": "@jupyter-widgets/controls",
      "model_module_version": "1.5.0",
      "model_name": "DescriptionStyleModel",
      "state": {
       "description_width": "200px"
      }
     },
     "c1081d119c4c453aa828bf1654de9266": {
      "model_module": "@jupyter-widgets/controls",
      "model_module_version": "1.5.0",
      "model_name": "TextModel",
      "state": {
       "description": "Channel profile y-coords:",
       "disabled": true,
       "layout": "IPY_MODEL_a5a122d2183345d694fd16b57c9d80ae",
       "placeholder": "space separated",
       "style": "IPY_MODEL_e18d7c18ac764bd3abc625d9ccd1c79e",
       "value": "1 0 1"
      }
     },
     "c10d7bd4317146c395de21edfcda638f": {
      "model_module": "@jupyter-widgets/controls",
      "model_module_version": "1.5.0",
      "model_name": "BoundedFloatTextModel",
      "state": {
       "description": "\\(\\varepsilon_{other} \\) [-]:",
       "layout": "IPY_MODEL_6c7b6f24defb403db482454dbff6bcef",
       "max": 10,
       "step": 0.01,
       "style": "IPY_MODEL_112f23f9e65943f59240f61150d67fb4"
      }
     },
     "c16170f35b3f4708a80380fef7d63db3": {
      "model_module": "@jupyter-widgets/base",
      "model_module_version": "1.2.0",
      "model_name": "LayoutModel",
      "state": {}
     },
     "c204271783324d21b1677418f584d84f": {
      "model_module": "@jupyter-widgets/controls",
      "model_module_version": "1.5.0",
      "model_name": "HBoxModel",
      "state": {
       "children": [
        "IPY_MODEL_495e2c43de55496281f0ea638874b204",
        "IPY_MODEL_adab29ec400e4451993d3f5076769c44"
       ],
       "layout": "IPY_MODEL_ac4c43e079a845988762651a47141866"
      }
     },
     "c212e9ce15854092a378591ff851997e": {
      "model_module": "@jupyter-widgets/output",
      "model_module_version": "1.0.0",
      "model_name": "OutputModel",
      "state": {
       "layout": "IPY_MODEL_d085c5674f874911ba42e20bd84d398f",
       "outputs": [
        {
         "data": {
          "application/vnd.jupyter.widget-view+json": {
           "model_id": "",
           "version_major": 2,
           "version_minor": 0
          },
          "text/plain": "HTML(value=\"<p style='font-family:verdana; font-size:24px;padding:20px'>Hydraulic parameters</p>\")"
         },
         "metadata": {},
         "output_type": "display_data"
        },
        {
         "data": {
          "application/vnd.jupyter.widget-view+json": {
           "model_id": "",
           "version_major": 2,
           "version_minor": 0
          },
          "text/plain": "BoundedFloatText(value=1.0, description='Discharge [m3/s]:', max=10.0, step=0.01, style=DescriptionStyle(descr…"
         },
         "metadata": {},
         "output_type": "display_data"
        },
        {
         "data": {
          "application/vnd.jupyter.widget-view+json": {
           "model_id": "",
           "version_major": 2,
           "version_minor": 0
          },
          "text/plain": "BoundedFloatText(value=0.75, description='Water level [m+ref]:', max=10000.0, min=-1000.0, step=0.01, style=De…"
         },
         "metadata": {},
         "output_type": "display_data"
        },
        {
         "data": {
          "application/vnd.jupyter.widget-view+json": {
           "model_id": "",
           "version_major": 2,
           "version_minor": 0
          },
          "text/plain": "VBox(children=(HTML(value=\"<p style='font-family:verdana; font-size:24px;padding:20px'>Geometry</p>\"), HBox(ch…"
         },
         "metadata": {},
         "output_type": "display_data"
        },
        {
         "data": {
          "application/vnd.jupyter.widget-view+json": {
           "model_id": "",
           "version_major": 2,
           "version_minor": 0
          },
          "text/plain": "HTML(value=\"<p style='font-family:verdana; font-size:24px;padding:20px'>Results</p>\")"
         },
         "metadata": {},
         "output_type": "display_data"
        },
        {
         "data": {
          "application/vnd.jupyter.widget-view+json": {
           "model_id": "",
           "version_major": 2,
           "version_minor": 0
          },
          "text/plain": "HTML(value=\"<p style='font-family:verdana; font-size:14px;'>Given the discharge of 1.0m3/s, the resulting head…"
         },
         "metadata": {},
         "output_type": "display_data"
        },
        {
         "data": {
          "application/vnd.jupyter.widget-view+json": {
           "model_id": "",
           "version_major": 2,
           "version_minor": 0
          },
          "text/plain": "HTML(value='', style=DescriptionStyle(description_width='200px'))"
         },
         "metadata": {},
         "output_type": "display_data"
        },
        {
         "data": {
          "application/vnd.jupyter.widget-view+json": {
           "model_id": "",
           "version_major": 2,
           "version_minor": 0
          },
          "text/plain": "Button(description='Add sensitivity plot', layout=Layout(margin='20px'), style=ButtonStyle())"
         },
         "metadata": {},
         "output_type": "display_data"
        },
        {
         "data": {
          "application/vnd.jupyter.widget-view+json": {
           "model_id": "",
           "version_major": 2,
           "version_minor": 0
          },
          "text/plain": "VBox(children=(ToggleButtons(description='X-axis value:', options=('q', 'dz', 'k_manning', 'diameter'), toolti…"
         },
         "metadata": {},
         "output_type": "display_data"
        }
       ]
      }
     },
     "c21ca3a85b9d4d61b910b8af7c7c684c": {
      "model_module": "@jupyter-widgets/base",
      "model_module_version": "1.2.0",
      "model_name": "LayoutModel",
      "state": {}
     },
     "c27f06b6b0b54c808831c6cc9d6dc863": {
      "model_module": "@jupyter-widgets/controls",
      "model_module_version": "1.5.0",
      "model_name": "ButtonStyleModel",
      "state": {}
     },
     "c3034360484846bea29a97d00399ba98": {
      "model_module": "@jupyter-widgets/controls",
      "model_module_version": "1.5.0",
      "model_name": "DescriptionStyleModel",
      "state": {
       "description_width": "200px"
      }
     },
     "c3cfd572141348e9923e02082c2c19e2": {
      "model_module": "@jupyter-widgets/controls",
      "model_module_version": "1.5.0",
      "model_name": "BoundedFloatTextModel",
      "state": {
       "description": "Head loss [m]:",
       "layout": "IPY_MODEL_4eda84ec8720461d88fbf1ebe406d5ab",
       "max": 1,
       "step": 0.001,
       "style": "IPY_MODEL_1daac68b659543a0a125c58dc6e6e5c4",
       "value": 0.02
      }
     },
     "c4cabb11d1b94462bcf8286f44bc25bb": {
      "model_module": "@jupyter-widgets/base",
      "model_module_version": "1.2.0",
      "model_name": "LayoutModel",
      "state": {}
     },
     "c4d54537ec7b4923a67b4282678a51ec": {
      "model_module": "@jupyter-widgets/base",
      "model_module_version": "1.2.0",
      "model_name": "LayoutModel",
      "state": {}
     },
     "c541900839904b25b45d2beed6c0b3b2": {
      "model_module": "@jupyter-widgets/controls",
      "model_module_version": "1.5.0",
      "model_name": "FloatTextModel",
      "state": {
       "description": "Water level difference [m]",
       "disabled": true,
       "layout": "IPY_MODEL_dedfba54084842eaac3f8355cf5d75df",
       "step": null,
       "style": "IPY_MODEL_6b09af2443384f348660e31dec6a4d94"
      }
     },
     "c5df70c4279b4c8f86eabddad5f3c413": {
      "model_module": "@jupyter-widgets/controls",
      "model_module_version": "1.5.0",
      "model_name": "DescriptionStyleModel",
      "state": {
       "description_width": ""
      }
     },
     "c5f40229011a4141a9858f618b9eca85": {
      "model_module": "@jupyter-widgets/controls",
      "model_module_version": "1.5.0",
      "model_name": "BoundedFloatTextModel",
      "state": {
       "description": "Invert level [m+ref]:",
       "layout": "IPY_MODEL_d0841efd3e134565be97346da55a1bf5",
       "max": 10000,
       "min": -1000,
       "step": 0.01,
       "style": "IPY_MODEL_e0c153a0bdd8402ea6c5e7ee02e21e35"
      }
     },
     "c62519b5ff144a6d9d2e4ec04f47e851": {
      "model_module": "@jupyter-widgets/controls",
      "model_module_version": "1.5.0",
      "model_name": "DescriptionStyleModel",
      "state": {
       "description_width": ""
      }
     },
     "c689c2237f1f4685b3c4ab6949ea93a9": {
      "model_module": "@jupyter-widgets/controls",
      "model_module_version": "1.5.0",
      "model_name": "TextModel",
      "state": {
       "description": "Channel profile x-coords:",
       "disabled": true,
       "layout": "IPY_MODEL_c4d54537ec7b4923a67b4282678a51ec",
       "placeholder": "space separated",
       "style": "IPY_MODEL_0b185539de434611a005aae10a9fc662",
       "value": "-1 0 1"
      }
     },
     "c7a484e02c284732b8679c01cdbf164b": {
      "model_module": "@jupyter-widgets/base",
      "model_module_version": "1.2.0",
      "model_name": "LayoutModel",
      "state": {}
     },
     "c8071de289794d8b839065cab9a926f9": {
      "model_module": "@jupyter-widgets/controls",
      "model_module_version": "1.5.0",
      "model_name": "HTMLModel",
      "state": {
       "layout": "IPY_MODEL_fa56943bd67341c79d4af2c721bb2ad7",
       "style": "IPY_MODEL_de966686a4194f9b9aad40ba8c2fe45e",
       "value": "<p style='font-family:verdana; font-size:12px;'>Format: y1, y2, y3, ..</p>"
      }
     },
     "c9395321a2704236ba40946b1202e44f": {
      "model_module": "@jupyter-widgets/base",
      "model_module_version": "1.2.0",
      "model_name": "LayoutModel",
      "state": {}
     },
     "c98cdb9de5b843b69495705e90922ee1": {
      "model_module": "@jupyter-widgets/base",
      "model_module_version": "1.2.0",
      "model_name": "LayoutModel",
      "state": {}
     },
     "cadcb74207624de78fd397a54508e979": {
      "model_module": "@jupyter-widgets/controls",
      "model_module_version": "1.5.0",
      "model_name": "BoundedFloatTextModel",
      "state": {
       "description": "Discharge [m3/s]:",
       "layout": "IPY_MODEL_3d22a6e596694286af9a22d927d3690e",
       "max": 10,
       "step": 0.01,
       "style": "IPY_MODEL_6dcf4ace2ec844fe9ce2ce42e7516d3f",
       "value": 1
      }
     },
     "cc14d11690d84d6bbe3a0919d4ff47ae": {
      "model_module": "@jupyter-widgets/controls",
      "model_module_version": "1.5.0",
      "model_name": "HTMLModel",
      "state": {
       "layout": "IPY_MODEL_c16170f35b3f4708a80380fef7d63db3",
       "style": "IPY_MODEL_c5df70c4279b4c8f86eabddad5f3c413",
       "value": "<p style='font-family:verdana; font-size:24px; padding:20px'>Initial parameters</p>"
      }
     },
     "cc339fc8687a4c57ace6d9b434ffe0c1": {
      "model_module": "@jupyter-widgets/base",
      "model_module_version": "1.2.0",
      "model_name": "LayoutModel",
      "state": {}
     },
     "ccbeff7f9c00458987e02bec2cf0433b": {
      "model_module": "@jupyter-widgets/controls",
      "model_module_version": "1.5.0",
      "model_name": "HTMLModel",
      "state": {
       "layout": "IPY_MODEL_12cb611bb8fc48cabb317b03f41e8f7d",
       "style": "IPY_MODEL_4b75630c62cc48bab39860387180b404",
       "value": "<p style='font-family:verdana; font-size:14px;'>Given the discharge of 1.0m3/s, the resulting headloss is 0.0 m</p>"
      }
     },
     "cd0443c286c2433e8c3af11cd11f043d": {
      "model_module": "@jupyter-widgets/controls",
      "model_module_version": "1.5.0",
      "model_name": "LabelModel",
      "state": {
       "layout": "IPY_MODEL_57f09ca40cc04cd3a229fd193df011ae",
       "style": "IPY_MODEL_aae59005cacc4508ae89bc1df9c542c2"
      }
     },
     "cd85149c6c2644c483fbaafa930e4724": {
      "model_module": "@jupyter-widgets/base",
      "model_module_version": "1.2.0",
      "model_name": "LayoutModel",
      "state": {}
     },
     "ce65f9fa3a904babb890443a01cd89b3": {
      "model_module": "@jupyter-widgets/base",
      "model_module_version": "1.2.0",
      "model_name": "LayoutModel",
      "state": {}
     },
     "cf7cdaebfa0146cdbab4d96eb1dc75fa": {
      "model_module": "@jupyter-widgets/controls",
      "model_module_version": "1.5.0",
      "model_name": "DescriptionStyleModel",
      "state": {
       "description_width": "200px"
      }
     },
     "d0841efd3e134565be97346da55a1bf5": {
      "model_module": "@jupyter-widgets/base",
      "model_module_version": "1.2.0",
      "model_name": "LayoutModel",
      "state": {}
     },
     "d085c5674f874911ba42e20bd84d398f": {
      "model_module": "@jupyter-widgets/base",
      "model_module_version": "1.2.0",
      "model_name": "LayoutModel",
      "state": {}
     },
     "d194fc85d3734265bdebb5b22f6d5f8d": {
      "model_module": "@jupyter-widgets/controls",
      "model_module_version": "1.5.0",
      "model_name": "HTMLModel",
      "state": {
       "layout": "IPY_MODEL_b5c81c8e921c493293fdb6104314fc79",
       "style": "IPY_MODEL_7388b43bd78143bcb720cd8e7974cb93",
       "value": "<p style='font-family:verdana; font-style: italic;'>Friction loss</p>"
      }
     },
     "d2cb5dc199864298b71f7a93828794dc": {
      "model_module": "@jupyter-widgets/controls",
      "model_module_version": "1.5.0",
      "model_name": "FloatTextModel",
      "state": {
       "description": "Wet Area culvert [m2]",
       "disabled": true,
       "layout": "IPY_MODEL_163f62cbb9b34654845dd1d309541de5",
       "step": null,
       "style": "IPY_MODEL_7967dfd70c994311b772531da01626bd"
      }
     },
     "dbd26fd3ff3d4fe2ad5c91c9990f236e": {
      "model_module": "@jupyter-widgets/controls",
      "model_module_version": "1.5.0",
      "model_name": "FloatTextModel",
      "state": {
       "description": "Discharge [m3/s]",
       "disabled": true,
       "layout": "IPY_MODEL_0717d398a5bd4bde837b79f451a63b72",
       "step": null,
       "style": "IPY_MODEL_cf7cdaebfa0146cdbab4d96eb1dc75fa"
      }
     },
     "de966686a4194f9b9aad40ba8c2fe45e": {
      "model_module": "@jupyter-widgets/controls",
      "model_module_version": "1.5.0",
      "model_name": "DescriptionStyleModel",
      "state": {
       "description_width": ""
      }
     },
     "dedfba54084842eaac3f8355cf5d75df": {
      "model_module": "@jupyter-widgets/base",
      "model_module_version": "1.2.0",
      "model_name": "LayoutModel",
      "state": {}
     },
     "e0befd833fe74314b25326a5b61ae1d1": {
      "model_module": "@jupyter-widgets/controls",
      "model_module_version": "1.5.0",
      "model_name": "VBoxModel",
      "state": {
       "children": [
        "IPY_MODEL_ac49a2c1624c402fa78a0eee5aed0cd3",
        "IPY_MODEL_899ce63c288e494482d9498c2a6dfced",
        "IPY_MODEL_a86912f691e548d9a437dfc22246a468"
       ],
       "layout": "IPY_MODEL_c7a484e02c284732b8679c01cdbf164b"
      }
     },
     "e0c153a0bdd8402ea6c5e7ee02e21e35": {
      "model_module": "@jupyter-widgets/controls",
      "model_module_version": "1.5.0",
      "model_name": "DescriptionStyleModel",
      "state": {
       "description_width": "200px"
      }
     },
     "e0f4dce136e3406f97b33298d21495d2": {
      "model_module": "@jupyter-widgets/controls",
      "model_module_version": "1.5.0",
      "model_name": "DescriptionStyleModel",
      "state": {
       "description_width": "200px"
      }
     },
     "e18d7c18ac764bd3abc625d9ccd1c79e": {
      "model_module": "@jupyter-widgets/controls",
      "model_module_version": "1.5.0",
      "model_name": "DescriptionStyleModel",
      "state": {
       "description_width": "200px"
      }
     },
     "e1dbdf459a3544a5be14fc7cbbc2aa2a": {
      "model_module": "@jupyter-widgets/base",
      "model_module_version": "1.2.0",
      "model_name": "LayoutModel",
      "state": {}
     },
     "e2c3a5cf54bf432f91cf6fbc4ae885f4": {
      "model_module": "@jupyter-widgets/output",
      "model_module_version": "1.0.0",
      "model_name": "OutputModel",
      "state": {
       "layout": "IPY_MODEL_c9395321a2704236ba40946b1202e44f"
      }
     },
     "e6d06c40f237420d9f50b1796a6e3b02": {
      "model_module": "@jupyter-widgets/controls",
      "model_module_version": "1.5.0",
      "model_name": "ToggleButtonsStyleModel",
      "state": {
       "button_width": "",
       "description_width": ""
      }
     },
     "e733a99a86cb4869ad59747530aeace3": {
      "model_module": "@jupyter-widgets/controls",
      "model_module_version": "1.5.0",
      "model_name": "DescriptionStyleModel",
      "state": {
       "description_width": "200px"
      }
     },
     "e9b2b1468ab3442c81ad2444027590d5": {
      "model_module": "@jupyter-widgets/controls",
      "model_module_version": "1.5.0",
      "model_name": "HBoxModel",
      "state": {
       "children": [
        "IPY_MODEL_be90cfcb49044f9b80e5c2e24bbdc3e2",
        "IPY_MODEL_588f4a9387eb4db2898ef85ce092aa33"
       ],
       "layout": "IPY_MODEL_9112df4845ec46b38ec08d074b03a238"
      }
     },
     "eb31587fe2cd4ca7b966a1796f3844cb": {
      "model_module": "@jupyter-widgets/controls",
      "model_module_version": "1.5.0",
      "model_name": "DescriptionStyleModel",
      "state": {
       "description_width": ""
      }
     },
     "ebe77efca66e4b299fc895dec4c9ed6e": {
      "model_module": "@jupyter-widgets/base",
      "model_module_version": "1.2.0",
      "model_name": "LayoutModel",
      "state": {}
     },
     "ebf3fb48a39d4cc2aee6ef0635f3db4d": {
      "model_module": "@jupyter-widgets/base",
      "model_module_version": "1.2.0",
      "model_name": "LayoutModel",
      "state": {}
     },
     "ecd8c92f75f74ebc8363b3f5f9e14f36": {
      "model_module": "@jupyter-widgets/controls",
      "model_module_version": "1.5.0",
      "model_name": "BoundedFloatTextModel",
      "state": {
       "description": "Culvert length [m]:",
       "layout": "IPY_MODEL_96e395733db147e69140729b1287e6e1",
       "max": 1000,
       "style": "IPY_MODEL_ae319ca4140f42e2b3dc3b83540e21e5",
       "value": 10
      }
     },
     "f3076e7253664b239310caa646ec9e29": {
      "model_module": "@jupyter-widgets/base",
      "model_module_version": "1.2.0",
      "model_name": "LayoutModel",
      "state": {}
     },
     "f3ab6c6fd2f94ab7b45415c6c00bc7b6": {
      "model_module": "@jupyter-widgets/controls",
      "model_module_version": "1.5.0",
      "model_name": "CheckboxModel",
      "state": {
       "description": "Add channel profile (downstream)",
       "disabled": false,
       "indent": false,
       "layout": "IPY_MODEL_9bc6bdb9ce0e437799b5615c4e7e929e",
       "style": "IPY_MODEL_23ea6da4bc94445d83f38d6b5394d1a3",
       "value": false
      }
     },
     "f6875e9d28194f3f8172173ac166d548": {
      "model_module": "@jupyter-widgets/controls",
      "model_module_version": "1.5.0",
      "model_name": "DescriptionStyleModel",
      "state": {
       "description_width": "200px"
      }
     },
     "f691c19b42fb4eb4b1229c16d549147b": {
      "model_module": "@jupyter-widgets/controls",
      "model_module_version": "1.5.0",
      "model_name": "HBoxModel",
      "state": {
       "children": [
        "IPY_MODEL_ab02190c3f9b49a6906b0295420377fa",
        "IPY_MODEL_b1d6b25c288c495c93a28694a1924798"
       ],
       "layout": "IPY_MODEL_c98cdb9de5b843b69495705e90922ee1"
      }
     },
     "f84ab78af0b44c16b3aa0b35386e4b6e": {
      "model_module": "@jupyter-widgets/base",
      "model_module_version": "1.2.0",
      "model_name": "LayoutModel",
      "state": {}
     },
     "f9748e34143441cfbdf0061bb41660aa": {
      "model_module": "@jupyter-widgets/base",
      "model_module_version": "1.2.0",
      "model_name": "LayoutModel",
      "state": {}
     },
     "fa56943bd67341c79d4af2c721bb2ad7": {
      "model_module": "@jupyter-widgets/base",
      "model_module_version": "1.2.0",
      "model_name": "LayoutModel",
      "state": {}
     }
    },
    "version_major": 2,
    "version_minor": 0
   }
  }
 },
 "nbformat": 4,
 "nbformat_minor": 4
}
