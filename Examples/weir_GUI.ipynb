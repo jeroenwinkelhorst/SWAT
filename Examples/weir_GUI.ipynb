{
 "cells": [
  {
   "cell_type": "markdown",
   "metadata": {},
   "source": [
    "<div style=\"text-align: right\"><img \n",
    "src=\"https://s3.eu-west-1.amazonaws.com/rhdhv.water-management-projecten/Algemeen/logo_WMlab.JPG\"  width=\"80\" align=\"right\" style=\"margin: 0px 0px 10px 10px;\">\n",
    "</div>\n",
    "<div style=\"text-align: right\"><img src=\"https://global.royalhaskoningdhv.com/-/media/project/rhdhv/shared/logos-and-brand-elements/logo-rhdhv-small.png\" align=\"right\" style=\"margin: 0px 0px 10px 10px;\"></div>\n"
   ]
  },
  {
   "cell_type": "markdown",
   "metadata": {},
   "source": [
    "___\n",
    "# Weir and Orifice calculation \n",
    "\n",
    "Calculate the discharge of a weir or Orifice. Will automatically check for weir, orifice flow, free or submerged flow.\n",
    "\n",
    "See formulas used in appendix. Also notice the use of various coefficients.\n",
    "\n",
    "Remark: specific coefficient settings might cause jumps in results when flow regime switches modes (from orifice flow to weir flow, or, from submerged to free flow). \n",
    "\n",
    "___"
   ]
  },
  {
   "cell_type": "markdown",
   "metadata": {},
   "source": [
    "<div style=\"font-size: 9pt; text-align: right; font-style: italic\">Latest template update: 22-10-2021</div>"
   ]
  },
  {
   "cell_type": "markdown",
   "metadata": {},
   "source": [
    "<b>Run the cell below to load the interactive widget</b>"
   ]
  },
  {
   "cell_type": "code",
   "execution_count": null,
   "metadata": {},
   "outputs": [],
   "source": [
    "import os\n",
    "import sys\n",
    "sys.path.append(\"..\")\n",
    "\n",
    "from swat.weir_layout import WeirNotebookLayout\n",
    "\n",
    "nb = WeirNotebookLayout()\n",
    "nb.run()\n"
   ]
  },
  {
   "cell_type": "markdown",
   "metadata": {},
   "source": [
    "# Appendix - formula's used in this calculation sheet\n",
    "\n",
    "This sheet makes use standard weir formulas. it will determine orifice, weir flow and free or submerged flow based on the following hierarchy:\n",
    "\n",
    "weir flow if : $ h_1 - z_s< \\frac{3}{2} d_g $ \n",
    "\n",
    "submerged if: $ h_1 - z_s<= \\frac{3}{2} (h_2 - z_s) $\n",
    "\n",
    "$ A=W c_l \\frac{2}{3}(h_1 - z_s- \\frac{u^2}{2g}) $\n",
    "\n",
    "$ u = c_s \\sqrt{2g(h_1-h_2} $\n",
    "\n",
    "\n",
    "\n",
    "else free flow: $ h_1 - z_s> \\frac{3}{2} (h_2 - z_s) $\n",
    "\n",
    "$ A=W c_l \\frac{2}{3}(h_1 - z_s) $\n",
    "\n",
    "$ u = c_w \\sqrt{ \\frac{2}{3} g(h_1-z_s)} $\n",
    "\n",
    "\n",
    "orifice flow if: $ h_1 - z_s>= \\frac{3}{2} d_g $\n",
    "\n",
    "submerged if: $ h_2 > z_s +d_g $\n",
    "\n",
    "$ A= W c_l c_c d_g) $\n",
    "\n",
    "$ u = c_s \\sqrt{2g(h_1-h_2} $\n",
    "\n",
    "else free flow:  $ h_2 <= z_s +d_g $ \n",
    "\n",
    "$ A= W c_l c_c d_g) $\n",
    "\n",
    "$ u = \\sqrt{ 2 g(h_1-(z_s + c_c d_g))} $\n",
    "\n",
    "Then:\n",
    "\n",
    "$ Q= A u $\n",
    "\n",
    "with:\n",
    "$h_1 = $ Higher water level [m+datum]\n",
    "\n",
    "$z_s = $ Crest level [m+datum]\n",
    "\n",
    "$d_g = $ gate level above crest level (raised to np.inf if no gate is present [m]\n",
    "\n",
    "$h_2 = $ lower water level [m+datum]\n",
    "\n",
    "$A = $ wet area [m^2]\n",
    "\n",
    "$W = $ width of the weir [m]\n",
    "\n",
    "$c_l = $ lateral contraction coefficient (will reduce the flow width $W$ and thus $A$) [-]\n",
    "\n",
    "$u = $ flow velocity [m/s]\n",
    "\n",
    "$c_s = $ loss coefficient for submerged weir flow [-]\n",
    "\n",
    "$c_w = $ weir coefficient for free flow weir (based on the shape of the weir, see table below) [-]\n",
    "\n",
    "$ c_c =$ contraction coefficient under the gate (for orifice flow) [-]\n",
    "\n",
    "$ Q = $ discharge [m3/s]\n",
    "\n",
    "If downstream water level is set higher than upstream water level they are swapped and discharge and velocity will be calculated as negative. Make sure loss coefficients are set properly (specifically $c_w$ could be different depending on flow direction)\n"
   ]
  },
  {
   "cell_type": "markdown",
   "metadata": {},
   "source": [
    "|Crest shape|Weir coeffcient|\n",
    "| --- | --- |\n",
    "|broad, sharp, vertical face|0.85-0.88|\n",
    "|broad, rounded, vertical faces|0.87-0.95|\n",
    "|short sharp, no air entrapement|1.11|\n",
    "|rounded, upstream vertical face, downstream sloped face|1.3|\n",
    "|symmetrical rounded sloped faces|1.37|\n"
   ]
  },
  {
   "cell_type": "code",
   "execution_count": null,
   "metadata": {},
   "outputs": [],
   "source": []
  }
 ],
 "metadata": {
  "kernelspec": {
   "display_name": "Python 3 (ipykernel)",
   "language": "python",
   "name": "python3"
  },
  "language_info": {
   "codemirror_mode": {
    "name": "ipython",
    "version": 3
   },
   "file_extension": ".py",
   "mimetype": "text/x-python",
   "name": "python",
   "nbconvert_exporter": "python",
   "pygments_lexer": "ipython3",
   "version": "3.9.12"
  },
  "widgets": {
   "application/vnd.jupyter.widget-state+json": {
    "state": {},
    "version_major": 2,
    "version_minor": 0
   }
  }
 },
 "nbformat": 4,
 "nbformat_minor": 4
}
