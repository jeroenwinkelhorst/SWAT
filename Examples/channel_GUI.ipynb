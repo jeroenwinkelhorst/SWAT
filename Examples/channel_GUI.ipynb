{
 "cells": [
  {
   "cell_type": "markdown",
   "metadata": {},
   "source": [
    "<div style=\"text-align: right\"><img \n",
    "src=\"https://s3.eu-west-1.amazonaws.com/rhdhv.water-management-projecten/Algemeen/logo_WMlab.JPG\"  width=\"80\" align=\"right\" style=\"margin: 0px 0px 10px 10px;\">\n",
    "</div>\n",
    "<div style=\"text-align: right\"><img src=\"https://www.royalhaskoningdhv.com/-/media/royalhaskoningdhvcorporate/images/logos/logo-rhdhv-small.png\" align=\"right\" style=\"margin: 0px 0px 10px 10px;\"></div>\n"
   ]
  },
  {
   "cell_type": "markdown",
   "metadata": {},
   "source": [
    "___\n",
    "# Channel calculation using Manning\n",
    "Calculate the discharge of a channel using mannings equation\n",
    "\n",
    "___"
   ]
  },
  {
   "cell_type": "markdown",
   "metadata": {},
   "source": [
    "<div style=\"font-size: 9pt; text-align: right; font-style: italic\">Latest template update: 22-10-2021</div>"
   ]
  },
  {
   "cell_type": "markdown",
   "metadata": {},
   "source": [
    "<table>\n",
    "<tr style=\"background-color:#FFFFFF\">\n",
    "    <td style=\"text-align:left; width: 140px;\"> <i>Project:</i>\n",
    "    </td>\n",
    "    <td style=\"text-align:left; width: 400px;\">(project name)\n",
    "    </td>\n",
    "    <td style=\"text-align:left; width: 140px;\"> <i>Date:</i>\n",
    "    </td>\n",
    "    <td style=\"text-align:left;\">yyyy-mm-dd\n",
    "    </td>\n",
    "</tr>\n",
    "<tr style=\"background-color:#FFFFFF\">\n",
    "    <td style=\"text-align:left;\"> <i>Project number:</i>\n",
    "    </td>\n",
    "    <td style=\"text-align:left;\">AB1234\n",
    "    </td>\n",
    "    <td style=\"text-align:left;\"> <i>Quality check:</i>\n",
    "    </td>\n",
    "    <td style=\"text-align:left;\">(name quality checker)\n",
    "    </td>\n",
    "</tr>\n",
    "<tr style=\"background-color:#FFFFFF\">\n",
    "    <td style=\"text-align:left;\"> <i>Author:</i>\n",
    "    </td>\n",
    "    <td style=\"text-align:left;\">(name author)\n",
    "    </td>\n",
    "    <td style=\"text-align:left;\"> <i>Product owner:</i>\n",
    "    </td>\n",
    "    <td style=\"text-align:left;\">(name product owner)\n",
    "    </td>\n",
    "</tr>\n",
    "</table>"
   ]
  },
  {
   "cell_type": "code",
   "execution_count": null,
   "metadata": {},
   "outputs": [],
   "source": [
    "import os\n",
    "import swat\n",
    "if os.environ.get('WMLAB_IMAGE_TAG') is not None:\n",
    "    wmlab_log_usage(toolName=swat.__title__, toolVersion=swat.__version__)\n",
    "\n",
    "from swat.channel_layout import ChannelNotebookLayout\n",
    "\n",
    "nb = ChannelNotebookLayout()\n",
    "nb.run()"
   ]
  },
  {
   "cell_type": "markdown",
   "metadata": {},
   "source": [
    "# Appendix - formula's used in this calculation sheet\n",
    "\n",
    "Mannings equation\n",
    "\n",
    "$Q=ks A R^{2/3} S^{1/2}$\n",
    "\n",
    "<i>where:</i>\n",
    "\n",
    "$Q \\ [m^3/s]$ = Discharge<br>\n",
    "$ks \\ [m^{1/3}/s]$ = Strikler friction coefficient<br>\n",
    "$A \\ [m^2]$ = Wet area of the profile<br>\n",
    "$R \\ [m]$ = hydraulic radius defined as wet surface ($A$) divided by perimeter ($P$)<br>\n",
    "$S \\ [m/m]$ = Bottom slope<br><br>\n",
    "\n",
    "if Bos en Bijkerk is used then $km$ will be used instead of $ks$. This calculated as follows:\n",
    "\n",
    "$km=\\gamma h^{1/3}$\n",
    "\n",
    "<i>where:</i>\n",
    "\n",
    "$h \\ [m]$ = water depth<br>\n",
    "$\\gamma \\ [m^{1/3}/s]$ = Strikler friction coefficient ($ks$)<br>\n"
   ]
  },
  {
   "cell_type": "code",
   "execution_count": null,
   "metadata": {},
   "outputs": [],
   "source": []
  }
 ],
 "metadata": {
  "kernelspec": {
   "display_name": "Python 3 (ipykernel)",
   "language": "python",
   "name": "python3"
  },
  "language_info": {
   "codemirror_mode": {
    "name": "ipython",
    "version": 3
   },
   "file_extension": ".py",
   "mimetype": "text/x-python",
   "name": "python",
   "nbconvert_exporter": "python",
   "pygments_lexer": "ipython3",
   "version": "3.9.9"
  },
  "widgets": {
   "application/vnd.jupyter.widget-state+json": {
    "state": {
     "0478506a314c459f909d47bbe43bba28": {
      "model_module": "@jupyter-widgets/base",
      "model_module_version": "1.2.0",
      "model_name": "LayoutModel",
      "state": {}
     },
     "082668c0f3e7406085633707d845b3c8": {
      "model_module": "@jupyter-widgets/controls",
      "model_module_version": "1.5.0",
      "model_name": "VBoxModel",
      "state": {
       "children": [
        "IPY_MODEL_ad10153542864a6b9b0995b381b8de66",
        "IPY_MODEL_de12abe2add6430bb8b3ff83b8c697de",
        "IPY_MODEL_623a7df5611b45e695e177043969c27e",
        "IPY_MODEL_4830c455e6e44f33a9b6f9bd3b310860"
       ],
       "layout": "IPY_MODEL_28cb7b94e2de4a63a4d6b8dffdb98b03"
      }
     },
     "0a9dd5313c1842e88572d742b0beaed9": {
      "model_module": "@jupyter-widgets/base",
      "model_module_version": "1.2.0",
      "model_name": "LayoutModel",
      "state": {}
     },
     "0b6c2babd1bc42078d1fa6f1ea6b3083": {
      "model_module": "@jupyter-widgets/base",
      "model_module_version": "1.2.0",
      "model_name": "LayoutModel",
      "state": {}
     },
     "0fa859ab93d84d8c9307bfcf480994ea": {
      "model_module": "@jupyter-widgets/controls",
      "model_module_version": "1.5.0",
      "model_name": "DescriptionStyleModel",
      "state": {
       "description_width": "200px"
      }
     },
     "10caacf9d398431186d90b4bf62e4bea": {
      "model_module": "@jupyter-widgets/base",
      "model_module_version": "1.2.0",
      "model_name": "LayoutModel",
      "state": {}
     },
     "16e317d8da98476b81206d4a7e056a49": {
      "model_module": "@jupyter-widgets/controls",
      "model_module_version": "1.5.0",
      "model_name": "BoundedFloatTextModel",
      "state": {
       "description": "slope left 1:n [n]:",
       "layout": "IPY_MODEL_4d663ae6ba4a4d33b0bf8431d4ba09f3",
       "max": 1000,
       "step": 0.01,
       "style": "IPY_MODEL_e923fae15f36462c807bb5efc208aa60",
       "value": 1
      }
     },
     "17844e0a52124289b30c8ae6f4a8c1cb": {
      "model_module": "@jupyter-widgets/controls",
      "model_module_version": "1.5.0",
      "model_name": "BoundedFloatTextModel",
      "state": {
       "description": "slope right 1:n [n]:",
       "layout": "IPY_MODEL_61b56b809cbf4ec188f1fbbfdd73193d",
       "max": 1000,
       "step": 0.01,
       "style": "IPY_MODEL_6166370fd5404a51ac0a8c604114f9b2",
       "value": 1
      }
     },
     "1ec7f40bba6846b8a97393800c3a439b": {
      "model_module": "@jupyter-widgets/controls",
      "model_module_version": "1.5.0",
      "model_name": "DescriptionStyleModel",
      "state": {
       "description_width": ""
      }
     },
     "243f40fd84334094b46307b0d5d8f412": {
      "model_module": "@jupyter-widgets/base",
      "model_module_version": "1.2.0",
      "model_name": "LayoutModel",
      "state": {}
     },
     "28cb7b94e2de4a63a4d6b8dffdb98b03": {
      "model_module": "@jupyter-widgets/base",
      "model_module_version": "1.2.0",
      "model_name": "LayoutModel",
      "state": {}
     },
     "311796a873cd4c408619f1e6591378d5": {
      "model_module": "@jupyter-widgets/base",
      "model_module_version": "1.2.0",
      "model_name": "LayoutModel",
      "state": {}
     },
     "3231af2e44a04beea233415489ac017c": {
      "model_module": "@jupyter-widgets/base",
      "model_module_version": "1.2.0",
      "model_name": "LayoutModel",
      "state": {}
     },
     "32d4d0f4a22343429adc61fd27bb31c6": {
      "model_module": "@jupyter-widgets/controls",
      "model_module_version": "1.5.0",
      "model_name": "DescriptionStyleModel",
      "state": {
       "description_width": "200px"
      }
     },
     "331ac07c07084539879cba92ba85a9b6": {
      "model_module": "@jupyter-widgets/base",
      "model_module_version": "1.2.0",
      "model_name": "LayoutModel",
      "state": {}
     },
     "36117cced8f849309fdd8f33d6703df8": {
      "model_module": "@jupyter-widgets/base",
      "model_module_version": "1.2.0",
      "model_name": "LayoutModel",
      "state": {}
     },
     "422aef4e5c614ac0af6a5eef51c96f0f": {
      "model_module": "@jupyter-widgets/controls",
      "model_module_version": "1.5.0",
      "model_name": "DescriptionStyleModel",
      "state": {
       "description_width": "200px"
      }
     },
     "4830c455e6e44f33a9b6f9bd3b310860": {
      "model_module": "@jupyter-widgets/controls",
      "model_module_version": "1.5.0",
      "model_name": "BoundedFloatTextModel",
      "state": {
       "description": "Hydraulic radius [m]:",
       "disabled": true,
       "layout": "IPY_MODEL_c716da6e07804f0d917f5cbdf144509f",
       "max": 100000,
       "step": 0.01,
       "style": "IPY_MODEL_49bab4109e104111a458879fecc300be",
       "value": 2.4198704166225875
      }
     },
     "49bab4109e104111a458879fecc300be": {
      "model_module": "@jupyter-widgets/controls",
      "model_module_version": "1.5.0",
      "model_name": "DescriptionStyleModel",
      "state": {
       "description_width": "200px"
      }
     },
     "4a99cd4c6fa74fdbb421b0d865c6bcc5": {
      "model_module": "@jupyter-widgets/base",
      "model_module_version": "1.2.0",
      "model_name": "LayoutModel",
      "state": {}
     },
     "4d663ae6ba4a4d33b0bf8431d4ba09f3": {
      "model_module": "@jupyter-widgets/base",
      "model_module_version": "1.2.0",
      "model_name": "LayoutModel",
      "state": {}
     },
     "544ba49588494ecd8d2c01252bb45c53": {
      "model_module": "@jupyter-widgets/controls",
      "model_module_version": "1.5.0",
      "model_name": "VBoxModel",
      "state": {
       "children": [
        "IPY_MODEL_5ddddc94890f47b7b9700a0ee168dae6",
        "IPY_MODEL_16e317d8da98476b81206d4a7e056a49",
        "IPY_MODEL_17844e0a52124289b30c8ae6f4a8c1cb",
        "IPY_MODEL_ff775cfa687c4e508ed44aa109ec82ea",
        "IPY_MODEL_fbd488043b5c4ba995e9f7c35bfc0c56",
        "IPY_MODEL_bf6f466fbd6c416bbba7a245471d9c34"
       ],
       "layout": "IPY_MODEL_3231af2e44a04beea233415489ac017c"
      }
     },
     "559163d944e54591b24e68d52c5a57e3": {
      "model_module": "@jupyter-widgets/controls",
      "model_module_version": "1.5.0",
      "model_name": "HTMLModel",
      "state": {
       "layout": "IPY_MODEL_c87808c1896c4f58bc4e83c83eec0709",
       "style": "IPY_MODEL_1ec7f40bba6846b8a97393800c3a439b",
       "value": "<p style='font-family:verdana; font-size:24px; padding:20px'>Initial parameters</p>"
      }
     },
     "5ddddc94890f47b7b9700a0ee168dae6": {
      "model_module": "@jupyter-widgets/controls",
      "model_module_version": "1.5.0",
      "model_name": "HTMLModel",
      "state": {
       "layout": "IPY_MODEL_331ac07c07084539879cba92ba85a9b6",
       "style": "IPY_MODEL_ddf48bfa186d4249887dbe543a0c652b",
       "value": "<p style='font-family:verdana; font-size:24px; padding:20px'>Trapezoidal cross section geometry</p>"
      }
     },
     "612612be4ae74d6a898b5b7a5ed20d43": {
      "model_module": "@jupyter-widgets/controls",
      "model_module_version": "1.5.0",
      "model_name": "VBoxModel",
      "state": {
       "children": [
        "IPY_MODEL_a4c3e1cee5dd4d9eb216cb03c7b24b4e",
        "IPY_MODEL_735cb7fc76dd466bb3a86d3fca1f0b43",
        "IPY_MODEL_f0627085823b41298ce47b613fe08f6a",
        "IPY_MODEL_b0d89bec52334994818977c4e6a15492"
       ],
       "layout": "IPY_MODEL_0a9dd5313c1842e88572d742b0beaed9"
      }
     },
     "6166370fd5404a51ac0a8c604114f9b2": {
      "model_module": "@jupyter-widgets/controls",
      "model_module_version": "1.5.0",
      "model_name": "DescriptionStyleModel",
      "state": {
       "description_width": "200px"
      }
     },
     "61b56b809cbf4ec188f1fbbfdd73193d": {
      "model_module": "@jupyter-widgets/base",
      "model_module_version": "1.2.0",
      "model_name": "LayoutModel",
      "state": {}
     },
     "623a7df5611b45e695e177043969c27e": {
      "model_module": "@jupyter-widgets/controls",
      "model_module_version": "1.5.0",
      "model_name": "BoundedFloatTextModel",
      "state": {
       "description": "Wet area [m2]:",
       "disabled": true,
       "layout": "IPY_MODEL_cbc3570d3fb34a85ad4276c7e64d0c1d",
       "max": 100000,
       "step": 0.01,
       "style": "IPY_MODEL_7d607f112e43418382465d2137dc7fe7",
       "value": 0.7540039999999999
      }
     },
     "653847361d4940828131eaffc45a8fe8": {
      "model_module": "@jupyter-widgets/base",
      "model_module_version": "1.2.0",
      "model_name": "LayoutModel",
      "state": {}
     },
     "70868bdfa13142d683aae812471b272e": {
      "model_module": "@jupyter-widgets/controls",
      "model_module_version": "1.5.0",
      "model_name": "VBoxModel",
      "state": {
       "children": [
        "IPY_MODEL_559163d944e54591b24e68d52c5a57e3",
        "IPY_MODEL_e9e3b7462761414ea5f9a9008ac30b11",
        "IPY_MODEL_b20bf8c5348b4c95a50c6cb0528668d7"
       ],
       "layout": "IPY_MODEL_653847361d4940828131eaffc45a8fe8"
      }
     },
     "735cb7fc76dd466bb3a86d3fca1f0b43": {
      "model_module": "@jupyter-widgets/controls",
      "model_module_version": "1.5.0",
      "model_name": "BoundedFloatTextModel",
      "state": {
       "description": "K manning [m]:",
       "layout": "IPY_MODEL_4a99cd4c6fa74fdbb421b0d865c6bcc5",
       "step": 1,
       "style": "IPY_MODEL_422aef4e5c614ac0af6a5eef51c96f0f",
       "value": 30
      }
     },
     "7c64f1e96ed74f99b581f640f1377719": {
      "model_module": "@jupyter-widgets/controls",
      "model_module_version": "1.5.0",
      "model_name": "DescriptionStyleModel",
      "state": {
       "description_width": "200px"
      }
     },
     "7d607f112e43418382465d2137dc7fe7": {
      "model_module": "@jupyter-widgets/controls",
      "model_module_version": "1.5.0",
      "model_name": "DescriptionStyleModel",
      "state": {
       "description_width": "200px"
      }
     },
     "a4c3e1cee5dd4d9eb216cb03c7b24b4e": {
      "model_module": "@jupyter-widgets/controls",
      "model_module_version": "1.5.0",
      "model_name": "BoundedFloatTextModel",
      "state": {
       "description": "Water level [m+ref]:",
       "layout": "IPY_MODEL_311796a873cd4c408619f1e6591378d5",
       "max": 5000,
       "min": -10000,
       "step": 0.001,
       "style": "IPY_MODEL_7c64f1e96ed74f99b581f640f1377719",
       "value": 0.502
      }
     },
     "aac71e44f80b45fc8c2cd6d1e40d7dc4": {
      "model_module": "@jupyter-widgets/base",
      "model_module_version": "1.2.0",
      "model_name": "LayoutModel",
      "state": {}
     },
     "ab8d1666c2a84f76ae405c93808f4803": {
      "model_module": "@jupyter-widgets/controls",
      "model_module_version": "1.5.0",
      "model_name": "DescriptionStyleModel",
      "state": {
       "description_width": "200px"
      }
     },
     "ad10153542864a6b9b0995b381b8de66": {
      "model_module": "@jupyter-widgets/controls",
      "model_module_version": "1.5.0",
      "model_name": "HTMLModel",
      "state": {
       "layout": "IPY_MODEL_0b6c2babd1bc42078d1fa6f1ea6b3083",
       "style": "IPY_MODEL_f2acd5258bfb44b8ab4a2a6eba7b90c4",
       "value": "<p style='font-family:verdana; font-size:24px; padding:20px'>Output</p>"
      }
     },
     "b0d89bec52334994818977c4e6a15492": {
      "model_module": "@jupyter-widgets/controls",
      "model_module_version": "1.5.0",
      "model_name": "BoundedFloatTextModel",
      "state": {
       "description": "Surface level [m+ref]:",
       "layout": "IPY_MODEL_e79b77fe023e4819b13c3b0e798d1862",
       "max": 5000,
       "min": -1000,
       "step": 0.01,
       "style": "IPY_MODEL_32d4d0f4a22343429adc61fd27bb31c6",
       "value": 1
      }
     },
     "b20bf8c5348b4c95a50c6cb0528668d7": {
      "model_module": "@jupyter-widgets/output",
      "model_module_version": "1.0.0",
      "model_name": "OutputModel",
      "state": {
       "layout": "IPY_MODEL_10caacf9d398431186d90b4bf62e4bea",
       "outputs": [
        {
         "data": {
          "application/vnd.jupyter.widget-view+json": {
           "model_id": "",
           "version_major": 2,
           "version_minor": 0
          },
          "text/plain": "VBox(children=(BoundedFloatText(value=0.5, description='Water level [m+ref]:', max=5000.0, min=-10000.0, step=…"
         },
         "metadata": {},
         "output_type": "display_data"
        },
        {
         "data": {
          "application/vnd.jupyter.widget-view+json": {
           "model_id": "",
           "version_major": 2,
           "version_minor": 0
          },
          "text/plain": "VBox(children=(HTML(value=\"<p style='font-family:verdana; font-size:24px; padding:20px'>Trapezoidal cross sect…"
         },
         "metadata": {},
         "output_type": "display_data"
        },
        {
         "data": {
          "application/vnd.jupyter.widget-view+json": {
           "model_id": "",
           "version_major": 2,
           "version_minor": 0
          },
          "text/plain": "VBox(children=(HTML(value=\"<p style='font-family:verdana; font-size:24px; padding:20px'>Output</p>\"), BoundedF…"
         },
         "metadata": {},
         "output_type": "display_data"
        }
       ]
      }
     },
     "b492a917c19a4a97a5e825dacd3cd754": {
      "model_module": "@jupyter-widgets/controls",
      "model_module_version": "1.5.0",
      "model_name": "DescriptionStyleModel",
      "state": {
       "description_width": "200px"
      }
     },
     "b6abdb4e321c432ba92941a61aa46936": {
      "model_module": "@jupyter-widgets/controls",
      "model_module_version": "1.5.0",
      "model_name": "DescriptionStyleModel",
      "state": {
       "description_width": "200px"
      }
     },
     "bf6f466fbd6c416bbba7a245471d9c34": {
      "model_module": "jupyterlab-plotly",
      "model_module_version": "^5.4.0",
      "model_name": "FigureModel",
      "state": {
       "_config": {
        "plotlyServerURL": "https://plot.ly"
       },
       "_data": [
        {
         "line": {
          "color": "blue"
         },
         "name": "water level",
         "type": "scatter",
         "uid": "34384f74-8b22-4541-a3ac-13447c0077cc",
         "x": [
          0,
          3
         ],
         "y": [
          0.502,
          0.502
         ]
        },
        {
         "line": {
          "color": "green"
         },
         "name": "channel",
         "type": "scatter",
         "uid": "f6d20b26-f9dd-4c33-82ef-ae61570bdb2a",
         "x": [
          0,
          1,
          2,
          3
         ],
         "y": [
          1,
          0,
          0,
          1
         ]
        }
       ],
       "_js2py_pointsCallback": {},
       "_js2py_restyle": {},
       "_js2py_update": {},
       "_last_layout_edit_id": 10,
       "_last_trace_edit_id": 7,
       "_layout": {
        "autosize": true,
        "template": {
         "data": {
          "bar": [
           {
            "error_x": {
             "color": "#2a3f5f"
            },
            "error_y": {
             "color": "#2a3f5f"
            },
            "marker": {
             "line": {
              "color": "white",
              "width": 0.5
             },
             "pattern": {
              "fillmode": "overlay",
              "size": 10,
              "solidity": 0.2
             }
            },
            "type": "bar"
           }
          ],
          "barpolar": [
           {
            "marker": {
             "line": {
              "color": "white",
              "width": 0.5
             },
             "pattern": {
              "fillmode": "overlay",
              "size": 10,
              "solidity": 0.2
             }
            },
            "type": "barpolar"
           }
          ],
          "carpet": [
           {
            "aaxis": {
             "endlinecolor": "#2a3f5f",
             "gridcolor": "#C8D4E3",
             "linecolor": "#C8D4E3",
             "minorgridcolor": "#C8D4E3",
             "startlinecolor": "#2a3f5f"
            },
            "baxis": {
             "endlinecolor": "#2a3f5f",
             "gridcolor": "#C8D4E3",
             "linecolor": "#C8D4E3",
             "minorgridcolor": "#C8D4E3",
             "startlinecolor": "#2a3f5f"
            },
            "type": "carpet"
           }
          ],
          "choropleth": [
           {
            "colorbar": {
             "outlinewidth": 0,
             "ticks": ""
            },
            "type": "choropleth"
           }
          ],
          "contour": [
           {
            "colorbar": {
             "outlinewidth": 0,
             "ticks": ""
            },
            "colorscale": [
             [
              0,
              "#0d0887"
             ],
             [
              0.1111111111111111,
              "#46039f"
             ],
             [
              0.2222222222222222,
              "#7201a8"
             ],
             [
              0.3333333333333333,
              "#9c179e"
             ],
             [
              0.4444444444444444,
              "#bd3786"
             ],
             [
              0.5555555555555556,
              "#d8576b"
             ],
             [
              0.6666666666666666,
              "#ed7953"
             ],
             [
              0.7777777777777778,
              "#fb9f3a"
             ],
             [
              0.8888888888888888,
              "#fdca26"
             ],
             [
              1,
              "#f0f921"
             ]
            ],
            "type": "contour"
           }
          ],
          "contourcarpet": [
           {
            "colorbar": {
             "outlinewidth": 0,
             "ticks": ""
            },
            "type": "contourcarpet"
           }
          ],
          "heatmap": [
           {
            "colorbar": {
             "outlinewidth": 0,
             "ticks": ""
            },
            "colorscale": [
             [
              0,
              "#0d0887"
             ],
             [
              0.1111111111111111,
              "#46039f"
             ],
             [
              0.2222222222222222,
              "#7201a8"
             ],
             [
              0.3333333333333333,
              "#9c179e"
             ],
             [
              0.4444444444444444,
              "#bd3786"
             ],
             [
              0.5555555555555556,
              "#d8576b"
             ],
             [
              0.6666666666666666,
              "#ed7953"
             ],
             [
              0.7777777777777778,
              "#fb9f3a"
             ],
             [
              0.8888888888888888,
              "#fdca26"
             ],
             [
              1,
              "#f0f921"
             ]
            ],
            "type": "heatmap"
           }
          ],
          "heatmapgl": [
           {
            "colorbar": {
             "outlinewidth": 0,
             "ticks": ""
            },
            "colorscale": [
             [
              0,
              "#0d0887"
             ],
             [
              0.1111111111111111,
              "#46039f"
             ],
             [
              0.2222222222222222,
              "#7201a8"
             ],
             [
              0.3333333333333333,
              "#9c179e"
             ],
             [
              0.4444444444444444,
              "#bd3786"
             ],
             [
              0.5555555555555556,
              "#d8576b"
             ],
             [
              0.6666666666666666,
              "#ed7953"
             ],
             [
              0.7777777777777778,
              "#fb9f3a"
             ],
             [
              0.8888888888888888,
              "#fdca26"
             ],
             [
              1,
              "#f0f921"
             ]
            ],
            "type": "heatmapgl"
           }
          ],
          "histogram": [
           {
            "marker": {
             "pattern": {
              "fillmode": "overlay",
              "size": 10,
              "solidity": 0.2
             }
            },
            "type": "histogram"
           }
          ],
          "histogram2d": [
           {
            "colorbar": {
             "outlinewidth": 0,
             "ticks": ""
            },
            "colorscale": [
             [
              0,
              "#0d0887"
             ],
             [
              0.1111111111111111,
              "#46039f"
             ],
             [
              0.2222222222222222,
              "#7201a8"
             ],
             [
              0.3333333333333333,
              "#9c179e"
             ],
             [
              0.4444444444444444,
              "#bd3786"
             ],
             [
              0.5555555555555556,
              "#d8576b"
             ],
             [
              0.6666666666666666,
              "#ed7953"
             ],
             [
              0.7777777777777778,
              "#fb9f3a"
             ],
             [
              0.8888888888888888,
              "#fdca26"
             ],
             [
              1,
              "#f0f921"
             ]
            ],
            "type": "histogram2d"
           }
          ],
          "histogram2dcontour": [
           {
            "colorbar": {
             "outlinewidth": 0,
             "ticks": ""
            },
            "colorscale": [
             [
              0,
              "#0d0887"
             ],
             [
              0.1111111111111111,
              "#46039f"
             ],
             [
              0.2222222222222222,
              "#7201a8"
             ],
             [
              0.3333333333333333,
              "#9c179e"
             ],
             [
              0.4444444444444444,
              "#bd3786"
             ],
             [
              0.5555555555555556,
              "#d8576b"
             ],
             [
              0.6666666666666666,
              "#ed7953"
             ],
             [
              0.7777777777777778,
              "#fb9f3a"
             ],
             [
              0.8888888888888888,
              "#fdca26"
             ],
             [
              1,
              "#f0f921"
             ]
            ],
            "type": "histogram2dcontour"
           }
          ],
          "mesh3d": [
           {
            "colorbar": {
             "outlinewidth": 0,
             "ticks": ""
            },
            "type": "mesh3d"
           }
          ],
          "parcoords": [
           {
            "line": {
             "colorbar": {
              "outlinewidth": 0,
              "ticks": ""
             }
            },
            "type": "parcoords"
           }
          ],
          "pie": [
           {
            "automargin": true,
            "type": "pie"
           }
          ],
          "scatter": [
           {
            "marker": {
             "colorbar": {
              "outlinewidth": 0,
              "ticks": ""
             }
            },
            "type": "scatter"
           }
          ],
          "scatter3d": [
           {
            "line": {
             "colorbar": {
              "outlinewidth": 0,
              "ticks": ""
             }
            },
            "marker": {
             "colorbar": {
              "outlinewidth": 0,
              "ticks": ""
             }
            },
            "type": "scatter3d"
           }
          ],
          "scattercarpet": [
           {
            "marker": {
             "colorbar": {
              "outlinewidth": 0,
              "ticks": ""
             }
            },
            "type": "scattercarpet"
           }
          ],
          "scattergeo": [
           {
            "marker": {
             "colorbar": {
              "outlinewidth": 0,
              "ticks": ""
             }
            },
            "type": "scattergeo"
           }
          ],
          "scattergl": [
           {
            "marker": {
             "colorbar": {
              "outlinewidth": 0,
              "ticks": ""
             }
            },
            "type": "scattergl"
           }
          ],
          "scattermapbox": [
           {
            "marker": {
             "colorbar": {
              "outlinewidth": 0,
              "ticks": ""
             }
            },
            "type": "scattermapbox"
           }
          ],
          "scatterpolar": [
           {
            "marker": {
             "colorbar": {
              "outlinewidth": 0,
              "ticks": ""
             }
            },
            "type": "scatterpolar"
           }
          ],
          "scatterpolargl": [
           {
            "marker": {
             "colorbar": {
              "outlinewidth": 0,
              "ticks": ""
             }
            },
            "type": "scatterpolargl"
           }
          ],
          "scatterternary": [
           {
            "marker": {
             "colorbar": {
              "outlinewidth": 0,
              "ticks": ""
             }
            },
            "type": "scatterternary"
           }
          ],
          "surface": [
           {
            "colorbar": {
             "outlinewidth": 0,
             "ticks": ""
            },
            "colorscale": [
             [
              0,
              "#0d0887"
             ],
             [
              0.1111111111111111,
              "#46039f"
             ],
             [
              0.2222222222222222,
              "#7201a8"
             ],
             [
              0.3333333333333333,
              "#9c179e"
             ],
             [
              0.4444444444444444,
              "#bd3786"
             ],
             [
              0.5555555555555556,
              "#d8576b"
             ],
             [
              0.6666666666666666,
              "#ed7953"
             ],
             [
              0.7777777777777778,
              "#fb9f3a"
             ],
             [
              0.8888888888888888,
              "#fdca26"
             ],
             [
              1,
              "#f0f921"
             ]
            ],
            "type": "surface"
           }
          ],
          "table": [
           {
            "cells": {
             "fill": {
              "color": "#EBF0F8"
             },
             "line": {
              "color": "white"
             }
            },
            "header": {
             "fill": {
              "color": "#C8D4E3"
             },
             "line": {
              "color": "white"
             }
            },
            "type": "table"
           }
          ]
         },
         "layout": {
          "annotationdefaults": {
           "arrowcolor": "#2a3f5f",
           "arrowhead": 0,
           "arrowwidth": 1
          },
          "autotypenumbers": "strict",
          "coloraxis": {
           "colorbar": {
            "outlinewidth": 0,
            "ticks": ""
           }
          },
          "colorscale": {
           "diverging": [
            [
             0,
             "#8e0152"
            ],
            [
             0.1,
             "#c51b7d"
            ],
            [
             0.2,
             "#de77ae"
            ],
            [
             0.3,
             "#f1b6da"
            ],
            [
             0.4,
             "#fde0ef"
            ],
            [
             0.5,
             "#f7f7f7"
            ],
            [
             0.6,
             "#e6f5d0"
            ],
            [
             0.7,
             "#b8e186"
            ],
            [
             0.8,
             "#7fbc41"
            ],
            [
             0.9,
             "#4d9221"
            ],
            [
             1,
             "#276419"
            ]
           ],
           "sequential": [
            [
             0,
             "#0d0887"
            ],
            [
             0.1111111111111111,
             "#46039f"
            ],
            [
             0.2222222222222222,
             "#7201a8"
            ],
            [
             0.3333333333333333,
             "#9c179e"
            ],
            [
             0.4444444444444444,
             "#bd3786"
            ],
            [
             0.5555555555555556,
             "#d8576b"
            ],
            [
             0.6666666666666666,
             "#ed7953"
            ],
            [
             0.7777777777777778,
             "#fb9f3a"
            ],
            [
             0.8888888888888888,
             "#fdca26"
            ],
            [
             1,
             "#f0f921"
            ]
           ],
           "sequentialminus": [
            [
             0,
             "#0d0887"
            ],
            [
             0.1111111111111111,
             "#46039f"
            ],
            [
             0.2222222222222222,
             "#7201a8"
            ],
            [
             0.3333333333333333,
             "#9c179e"
            ],
            [
             0.4444444444444444,
             "#bd3786"
            ],
            [
             0.5555555555555556,
             "#d8576b"
            ],
            [
             0.6666666666666666,
             "#ed7953"
            ],
            [
             0.7777777777777778,
             "#fb9f3a"
            ],
            [
             0.8888888888888888,
             "#fdca26"
            ],
            [
             1,
             "#f0f921"
            ]
           ]
          },
          "colorway": [
           "#636efa",
           "#EF553B",
           "#00cc96",
           "#ab63fa",
           "#FFA15A",
           "#19d3f3",
           "#FF6692",
           "#B6E880",
           "#FF97FF",
           "#FECB52"
          ],
          "font": {
           "color": "#2a3f5f"
          },
          "geo": {
           "bgcolor": "white",
           "lakecolor": "white",
           "landcolor": "white",
           "showlakes": true,
           "showland": true,
           "subunitcolor": "#C8D4E3"
          },
          "hoverlabel": {
           "align": "left"
          },
          "hovermode": "closest",
          "mapbox": {
           "style": "light"
          },
          "paper_bgcolor": "white",
          "plot_bgcolor": "white",
          "polar": {
           "angularaxis": {
            "gridcolor": "#EBF0F8",
            "linecolor": "#EBF0F8",
            "ticks": ""
           },
           "bgcolor": "white",
           "radialaxis": {
            "gridcolor": "#EBF0F8",
            "linecolor": "#EBF0F8",
            "ticks": ""
           }
          },
          "scene": {
           "xaxis": {
            "backgroundcolor": "white",
            "gridcolor": "#DFE8F3",
            "gridwidth": 2,
            "linecolor": "#EBF0F8",
            "showbackground": true,
            "ticks": "",
            "zerolinecolor": "#EBF0F8"
           },
           "yaxis": {
            "backgroundcolor": "white",
            "gridcolor": "#DFE8F3",
            "gridwidth": 2,
            "linecolor": "#EBF0F8",
            "showbackground": true,
            "ticks": "",
            "zerolinecolor": "#EBF0F8"
           },
           "zaxis": {
            "backgroundcolor": "white",
            "gridcolor": "#DFE8F3",
            "gridwidth": 2,
            "linecolor": "#EBF0F8",
            "showbackground": true,
            "ticks": "",
            "zerolinecolor": "#EBF0F8"
           }
          },
          "shapedefaults": {
           "line": {
            "color": "#2a3f5f"
           }
          },
          "ternary": {
           "aaxis": {
            "gridcolor": "#DFE8F3",
            "linecolor": "#A2B1C6",
            "ticks": ""
           },
           "baxis": {
            "gridcolor": "#DFE8F3",
            "linecolor": "#A2B1C6",
            "ticks": ""
           },
           "bgcolor": "white",
           "caxis": {
            "gridcolor": "#DFE8F3",
            "linecolor": "#A2B1C6",
            "ticks": ""
           }
          },
          "title": {
           "x": 0.05
          },
          "xaxis": {
           "automargin": true,
           "gridcolor": "#EBF0F8",
           "linecolor": "#EBF0F8",
           "ticks": "",
           "title": {
            "standoff": 15
           },
           "zerolinecolor": "#EBF0F8",
           "zerolinewidth": 2
          },
          "yaxis": {
           "automargin": true,
           "gridcolor": "#EBF0F8",
           "linecolor": "#EBF0F8",
           "ticks": "",
           "title": {
            "standoff": 15
           },
           "zerolinecolor": "#EBF0F8",
           "zerolinewidth": 2
          }
         }
        },
        "xaxis": {
         "dtick": 1,
         "title": {
          "text": "[m]"
         }
        },
        "yaxis": {
         "scaleanchor": "x",
         "scaleratio": 1,
         "title": {
          "text": "[m]"
         }
        }
       },
       "_py2js_animate": {},
       "_py2js_deleteTraces": {},
       "_py2js_moveTraces": {},
       "_py2js_removeLayoutProps": {},
       "_py2js_removeTraceProps": {},
       "_py2js_restyle": {},
       "_view_count": 0
      }
     },
     "c716da6e07804f0d917f5cbdf144509f": {
      "model_module": "@jupyter-widgets/base",
      "model_module_version": "1.2.0",
      "model_name": "LayoutModel",
      "state": {}
     },
     "c87808c1896c4f58bc4e83c83eec0709": {
      "model_module": "@jupyter-widgets/base",
      "model_module_version": "1.2.0",
      "model_name": "LayoutModel",
      "state": {}
     },
     "cbc3570d3fb34a85ad4276c7e64d0c1d": {
      "model_module": "@jupyter-widgets/base",
      "model_module_version": "1.2.0",
      "model_name": "LayoutModel",
      "state": {}
     },
     "ddf48bfa186d4249887dbe543a0c652b": {
      "model_module": "@jupyter-widgets/controls",
      "model_module_version": "1.5.0",
      "model_name": "DescriptionStyleModel",
      "state": {
       "description_width": ""
      }
     },
     "de12abe2add6430bb8b3ff83b8c697de": {
      "model_module": "@jupyter-widgets/controls",
      "model_module_version": "1.5.0",
      "model_name": "BoundedFloatTextModel",
      "state": {
       "description": "Discharge [m3/s]:",
       "disabled": true,
       "layout": "IPY_MODEL_aac71e44f80b45fc8c2cd6d1e40d7dc4",
       "max": 1000,
       "step": 0.001,
       "style": "IPY_MODEL_e2e7a86706f8444094473eadaf6943ef",
       "value": 1.2893069133024582
      }
     },
     "e2e7a86706f8444094473eadaf6943ef": {
      "model_module": "@jupyter-widgets/controls",
      "model_module_version": "1.5.0",
      "model_name": "DescriptionStyleModel",
      "state": {
       "description_width": "200px"
      }
     },
     "e79b77fe023e4819b13c3b0e798d1862": {
      "model_module": "@jupyter-widgets/base",
      "model_module_version": "1.2.0",
      "model_name": "LayoutModel",
      "state": {}
     },
     "e923fae15f36462c807bb5efc208aa60": {
      "model_module": "@jupyter-widgets/controls",
      "model_module_version": "1.5.0",
      "model_name": "DescriptionStyleModel",
      "state": {
       "description_width": "200px"
      }
     },
     "e9e3b7462761414ea5f9a9008ac30b11": {
      "model_module": "@jupyter-widgets/controls",
      "model_module_version": "1.5.0",
      "model_name": "DropdownModel",
      "state": {
       "_options_labels": [
        "",
        "Trapezoidal"
       ],
       "description": "Select cross section type:",
       "disabled": true,
       "index": 1,
       "layout": "IPY_MODEL_0478506a314c459f909d47bbe43bba28",
       "style": "IPY_MODEL_ab8d1666c2a84f76ae405c93808f4803"
      }
     },
     "ec9541fc7b354df5be7eee954c4433f2": {
      "model_module": "@jupyter-widgets/base",
      "model_module_version": "1.2.0",
      "model_name": "LayoutModel",
      "state": {}
     },
     "f0627085823b41298ce47b613fe08f6a": {
      "model_module": "@jupyter-widgets/controls",
      "model_module_version": "1.5.0",
      "model_name": "BoundedFloatTextModel",
      "state": {
       "description": "Channel slope [m]:",
       "layout": "IPY_MODEL_ec9541fc7b354df5be7eee954c4433f2",
       "max": 1,
       "step": 0.0001,
       "style": "IPY_MODEL_b6abdb4e321c432ba92941a61aa46936",
       "value": 0.001
      }
     },
     "f2acd5258bfb44b8ab4a2a6eba7b90c4": {
      "model_module": "@jupyter-widgets/controls",
      "model_module_version": "1.5.0",
      "model_name": "DescriptionStyleModel",
      "state": {
       "description_width": ""
      }
     },
     "fbd488043b5c4ba995e9f7c35bfc0c56": {
      "model_module": "@jupyter-widgets/controls",
      "model_module_version": "1.5.0",
      "model_name": "BoundedFloatTextModel",
      "state": {
       "description": "bed level [m]:",
       "layout": "IPY_MODEL_36117cced8f849309fdd8f33d6703df8",
       "max": 5000,
       "min": -1000,
       "step": 0.01,
       "style": "IPY_MODEL_b492a917c19a4a97a5e825dacd3cd754"
      }
     },
     "ff775cfa687c4e508ed44aa109ec82ea": {
      "model_module": "@jupyter-widgets/controls",
      "model_module_version": "1.5.0",
      "model_name": "BoundedFloatTextModel",
      "state": {
       "description": "bed width [m]:",
       "layout": "IPY_MODEL_243f40fd84334094b46307b0d5d8f412",
       "step": 0.01,
       "style": "IPY_MODEL_0fa859ab93d84d8c9307bfcf480994ea",
       "value": 1
      }
     }
    },
    "version_major": 2,
    "version_minor": 0
   }
  }
 },
 "nbformat": 4,
 "nbformat_minor": 4
}
