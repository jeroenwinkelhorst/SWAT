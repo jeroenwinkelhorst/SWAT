{
 "cells": [
  {
   "cell_type": "markdown",
   "metadata": {},
   "source": [
    "<div style=\"text-align: right\"><img \n",
    "src=\"https://s3.eu-west-1.amazonaws.com/rhdhv.water-management-projecten/Algemeen/logo_WMlab.JPG\"  width=\"80\" align=\"right\" style=\"margin: 0px 0px 10px 10px;\">\n",
    "</div>\n",
    "<div style=\"text-align: right\"><img src=\"https://global.royalhaskoningdhv.com/-/media/project/rhdhv/shared/logos-and-brand-elements/logo-rhdhv-small.png\" align=\"right\" style=\"margin: 0px 0px 10px 10px;\"></div>\n"
   ]
  },
  {
   "cell_type": "markdown",
   "metadata": {},
   "source": [
    "___\n",
    "# Channel calculation using Manning\n",
    "Calculate the discharge of a channel using mannings equation\n",
    "\n",
    "___"
   ]
  },
  {
   "cell_type": "markdown",
   "metadata": {},
   "source": [
    "<div style=\"font-size: 9pt; text-align: right; font-style: italic\">Latest template update: 22-10-2021</div>"
   ]
  },
  {
   "cell_type": "markdown",
   "metadata": {},
   "source": [
    "<b>Run the cell below to load the interactive widget</b>"
   ]
  },
  {
   "cell_type": "code",
   "execution_count": null,
   "metadata": {},
   "outputs": [],
   "source": [
    "import os\n",
    "import sys\n",
    "sys.path.append(\"..\")\n",
    "\n",
    "from swat.channel_layout import ChannelNotebookLayout\n",
    "nb = ChannelNotebookLayout()\n",
    "nb.run()"
   ]
  },
  {
   "cell_type": "markdown",
   "metadata": {},
   "source": [
    "# Appendix - formula's used in this calculation sheet\n",
    "\n",
    "Mannings equation\n",
    "\n",
    "$Q=ks A R^{2/3} S^{1/2}$\n",
    "\n",
    "<i>where:</i>\n",
    "\n",
    "$Q \\ [m^3/s]$ = Discharge<br>\n",
    "$ks \\ [m^{1/3}/s]$ = Strikler friction coefficient<br>\n",
    "$A \\ [m^2]$ = Wet area of the profile<br>\n",
    "$R \\ [m]$ = hydraulic radius defined as wet surface ($A$) divided by perimeter ($P$)<br>\n",
    "$S \\ [m/m]$ = Bottom slope<br><br>\n",
    "\n",
    "if Bos en Bijkerk is used then $km$ will be used instead of $ks$. This calculated as follows:\n",
    "\n",
    "$km=\\gamma h^{1/3}$\n",
    "\n",
    "<i>where:</i>\n",
    "\n",
    "$h \\ [m]$ = water depth<br>\n",
    "$\\gamma \\ [m^{1/3}/s]$ = Strikler friction coefficient ($ks$)<br>\n"
   ]
  },
  {
   "cell_type": "code",
   "execution_count": null,
   "metadata": {},
   "outputs": [],
   "source": []
  }
 ],
 "metadata": {
  "kernelspec": {
   "display_name": "Python 3 (ipykernel)",
   "language": "python",
   "name": "python3"
  },
  "language_info": {
   "codemirror_mode": {
    "name": "ipython",
    "version": 3
   },
   "file_extension": ".py",
   "mimetype": "text/x-python",
   "name": "python",
   "nbconvert_exporter": "python",
   "pygments_lexer": "ipython3",
   "version": "3.9.12"
  },
  "widgets": {
   "application/vnd.jupyter.widget-state+json": {
    "state": {},
    "version_major": 2,
    "version_minor": 0
   }
  }
 },
 "nbformat": 4,
 "nbformat_minor": 4
}
